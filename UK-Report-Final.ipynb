{
 "cells": [
  {
   "cell_type": "code",
   "execution_count": 1,
   "id": "e9e6ce48",
   "metadata": {},
   "outputs": [],
   "source": [
    "import pandas as pd"
   ]
  },
  {
   "cell_type": "code",
   "execution_count": 2,
   "id": "6cffd7cb",
   "metadata": {},
   "outputs": [],
   "source": [
    "accident=pd.read_csv('Accident_Information.csv',low_memory=False, chunksize=30000)"
   ]
  },
  {
   "cell_type": "code",
   "execution_count": 3,
   "id": "0c2e2e75",
   "metadata": {},
   "outputs": [],
   "source": [
    "vehicle=pd.read_csv('Vehicle_Information.csv',low_memory=False, chunksize=30000)"
   ]
  },
  {
   "cell_type": "code",
   "execution_count": 4,
   "id": "b823863d",
   "metadata": {},
   "outputs": [],
   "source": [
    "#chunk cleaning and dataframing for accident column\n",
    "accidentchunk = []\n",
    "for chunk in accident:\n",
    "    accidentchunk_filter = chunk[\n",
    "        (chunk.Year.astype(int) >= 2005) &\n",
    "        (chunk.Year.astype(int) <= 2016) &\n",
    "        (chunk['Road_Type'] != \"Unknown\") &\n",
    "        (chunk['Junction_Control'] != \"Data missing or out of range\") &\n",
    "        (chunk['Carriageway_Hazards'] != \"Data missing or out of range\") &\n",
    "        (chunk['Junction_Detail'] != \"Data missing or out of range\") &\n",
    "        (chunk['Road_Surface_Conditions'] != \"Data missing or out of range\") &\n",
    "        (chunk['Special_Conditions_at_Site'] != \"Data missing or out of range\") &\n",
    "        (chunk['Weather_Conditions'] != \"Data missing or out of range\") &\n",
    "        (chunk['Latitude'].notnull()) &\n",
    "        (chunk['Longitude'].notnull())\n",
    "    ]\n",
    "    accidentchunk.append(accidentchunk_filter)\n",
    "df1 = pd.concat(accidentchunk)"
   ]
  },
  {
   "cell_type": "code",
   "execution_count": 5,
   "id": "4bef018d",
   "metadata": {},
   "outputs": [],
   "source": [
    "#chunk cleaning for vehicles column\n",
    "vehiclechunk = []\n",
    "for chunk2 in vehicle:\n",
    "    vehiclechunk_filter = chunk2[\n",
    "        (chunk2.Year.astype(int) >= 2005)&\n",
    "        (chunk2.Year.astype(int) <= 2016) &\n",
    "        (chunk2['Driver_Home_Area_Type'] != \"Data missing or out of range\") &\n",
    "        (chunk2['Journey_Purpose_of_Driver'] != \"Data missing or out of range\") &\n",
    "        (chunk2['Junction_Location'] != \"Data missing or out of range\") &\n",
    "        (chunk2['Was_Vehicle_Left_Hand_Drive'] != \"Data missing or out of range\") &\n",
    "        (chunk2['Hit_Object_in_Carriageway'] != \"Data missing or out of range\") &\n",
    "        (chunk2['Skidding_and_Overturning'] != \"Data missing or out of range\") &\n",
    "        (chunk2['Towing_and_Articulation'] != \"Data missing or out of range\") &\n",
    "        (chunk2['Vehicle_Leaving_Carriageway'] != \"Data missing or out of range\") &\n",
    "        (chunk2['Vehicle_Manoeuvre'] != \"Data missing or out of range\") &\n",
    "        (chunk2['Vehicle_Type'] != \"Data missing or out of range\") &\n",
    "        (chunk2['X1st_Point_of_Impact'] != \"Data missing or out of range\") &\n",
    "        (chunk2['Sex_of_Driver'] != \"Data missing or out of range\") &\n",
    "        (chunk2['Age_Band_of_Driver'] != \"Data missing or out of range\")\n",
    "        \n",
    "    ]\n",
    "    vehiclechunk.append(vehiclechunk_filter)\n",
    "df2 = pd.concat(vehiclechunk)"
   ]
  },
  {
   "cell_type": "code",
   "execution_count": 6,
   "id": "a721ed6b",
   "metadata": {},
   "outputs": [
    {
     "name": "stdout",
     "output_type": "stream",
     "text": [
      "Accident's Columns:\n",
      " Index(['Accident_Index', '1st_Road_Class', '1st_Road_Number', '2nd_Road_Class',\n",
      "       '2nd_Road_Number', 'Accident_Severity', 'Carriageway_Hazards', 'Date',\n",
      "       'Day_of_Week', 'Did_Police_Officer_Attend_Scene_of_Accident',\n",
      "       'Junction_Control', 'Junction_Detail', 'Latitude', 'Light_Conditions',\n",
      "       'Local_Authority_(District)', 'Local_Authority_(Highway)',\n",
      "       'Location_Easting_OSGR', 'Location_Northing_OSGR', 'Longitude',\n",
      "       'LSOA_of_Accident_Location', 'Number_of_Casualties',\n",
      "       'Number_of_Vehicles', 'Pedestrian_Crossing-Human_Control',\n",
      "       'Pedestrian_Crossing-Physical_Facilities', 'Police_Force',\n",
      "       'Road_Surface_Conditions', 'Road_Type', 'Special_Conditions_at_Site',\n",
      "       'Speed_limit', 'Time', 'Urban_or_Rural_Area', 'Weather_Conditions',\n",
      "       'Year', 'InScotland'],\n",
      "      dtype='object') \n",
      "\n",
      "Vehicle's Columns:\n",
      " Index(['Accident_Index', 'Age_Band_of_Driver', 'Age_of_Vehicle',\n",
      "       'Driver_Home_Area_Type', 'Driver_IMD_Decile', 'Engine_Capacity_.CC.',\n",
      "       'Hit_Object_in_Carriageway', 'Hit_Object_off_Carriageway',\n",
      "       'Journey_Purpose_of_Driver', 'Junction_Location', 'make', 'model',\n",
      "       'Propulsion_Code', 'Sex_of_Driver', 'Skidding_and_Overturning',\n",
      "       'Towing_and_Articulation', 'Vehicle_Leaving_Carriageway',\n",
      "       'Vehicle_Location.Restricted_Lane', 'Vehicle_Manoeuvre',\n",
      "       'Vehicle_Reference', 'Vehicle_Type', 'Was_Vehicle_Left_Hand_Drive',\n",
      "       'X1st_Point_of_Impact', 'Year'],\n",
      "      dtype='object')\n"
     ]
    }
   ],
   "source": [
    "#check columns\n",
    "print(\"Accident's Columns:\\n\",df1.columns, \"\\n\")\n",
    "\n",
    "print(\"Vehicle's Columns:\\n\",df2.columns)"
   ]
  },
  {
   "cell_type": "code",
   "execution_count": 7,
   "id": "06112265",
   "metadata": {},
   "outputs": [
    {
     "name": "stdout",
     "output_type": "stream",
     "text": [
      "Accident Shape (1210667, 34)\n",
      "Vehicle Shape (1696967, 24)\n"
     ]
    }
   ],
   "source": [
    "print('Accident Shape', df1.shape)\n",
    "print('Vehicle Shape',df2.shape)"
   ]
  },
  {
   "cell_type": "code",
   "execution_count": 8,
   "id": "2f629f3e",
   "metadata": {},
   "outputs": [],
   "source": [
    "#merge dataframes\n",
    "df = pd.merge(df1,df2)"
   ]
  },
  {
   "cell_type": "code",
   "execution_count": 9,
   "id": "763729ed",
   "metadata": {},
   "outputs": [
    {
     "name": "stdout",
     "output_type": "stream",
     "text": [
      "Names of Combined Columns:\n",
      " Index(['Accident_Index', '1st_Road_Class', '1st_Road_Number', '2nd_Road_Class',\n",
      "       '2nd_Road_Number', 'Accident_Severity', 'Carriageway_Hazards', 'Date',\n",
      "       'Day_of_Week', 'Did_Police_Officer_Attend_Scene_of_Accident',\n",
      "       'Junction_Control', 'Junction_Detail', 'Latitude', 'Light_Conditions',\n",
      "       'Local_Authority_(District)', 'Local_Authority_(Highway)',\n",
      "       'Location_Easting_OSGR', 'Location_Northing_OSGR', 'Longitude',\n",
      "       'LSOA_of_Accident_Location', 'Number_of_Casualties',\n",
      "       'Number_of_Vehicles', 'Pedestrian_Crossing-Human_Control',\n",
      "       'Pedestrian_Crossing-Physical_Facilities', 'Police_Force',\n",
      "       'Road_Surface_Conditions', 'Road_Type', 'Special_Conditions_at_Site',\n",
      "       'Speed_limit', 'Time', 'Urban_or_Rural_Area', 'Weather_Conditions',\n",
      "       'Year', 'InScotland', 'Age_Band_of_Driver', 'Age_of_Vehicle',\n",
      "       'Driver_Home_Area_Type', 'Driver_IMD_Decile', 'Engine_Capacity_.CC.',\n",
      "       'Hit_Object_in_Carriageway', 'Hit_Object_off_Carriageway',\n",
      "       'Journey_Purpose_of_Driver', 'Junction_Location', 'make', 'model',\n",
      "       'Propulsion_Code', 'Sex_of_Driver', 'Skidding_and_Overturning',\n",
      "       'Towing_and_Articulation', 'Vehicle_Leaving_Carriageway',\n",
      "       'Vehicle_Location.Restricted_Lane', 'Vehicle_Manoeuvre',\n",
      "       'Vehicle_Reference', 'Vehicle_Type', 'Was_Vehicle_Left_Hand_Drive',\n",
      "       'X1st_Point_of_Impact'],\n",
      "      dtype='object') \n",
      "\n",
      "\n",
      "Shape:\n",
      " (1075160, 56)\n"
     ]
    }
   ],
   "source": [
    "#check columns\n",
    "print(\"Names of Combined Columns:\\n\",df.columns, \"\\n\")\n",
    "print(\"\\nShape:\\n\",df.shape)"
   ]
  },
  {
   "cell_type": "code",
   "execution_count": 10,
   "id": "2f59df6d",
   "metadata": {},
   "outputs": [
    {
     "data": {
      "text/html": [
       "<div>\n",
       "<style scoped>\n",
       "    .dataframe tbody tr th:only-of-type {\n",
       "        vertical-align: middle;\n",
       "    }\n",
       "\n",
       "    .dataframe tbody tr th {\n",
       "        vertical-align: top;\n",
       "    }\n",
       "\n",
       "    .dataframe thead th {\n",
       "        text-align: right;\n",
       "    }\n",
       "</style>\n",
       "<table border=\"1\" class=\"dataframe\">\n",
       "  <thead>\n",
       "    <tr style=\"text-align: right;\">\n",
       "      <th></th>\n",
       "      <th>Accident_Index</th>\n",
       "      <th>1st_Road_Class</th>\n",
       "      <th>1st_Road_Number</th>\n",
       "      <th>2nd_Road_Class</th>\n",
       "      <th>2nd_Road_Number</th>\n",
       "      <th>Accident_Severity</th>\n",
       "      <th>Carriageway_Hazards</th>\n",
       "      <th>Date</th>\n",
       "      <th>Day_of_Week</th>\n",
       "      <th>Did_Police_Officer_Attend_Scene_of_Accident</th>\n",
       "      <th>...</th>\n",
       "      <th>Sex_of_Driver</th>\n",
       "      <th>Skidding_and_Overturning</th>\n",
       "      <th>Towing_and_Articulation</th>\n",
       "      <th>Vehicle_Leaving_Carriageway</th>\n",
       "      <th>Vehicle_Location.Restricted_Lane</th>\n",
       "      <th>Vehicle_Manoeuvre</th>\n",
       "      <th>Vehicle_Reference</th>\n",
       "      <th>Vehicle_Type</th>\n",
       "      <th>Was_Vehicle_Left_Hand_Drive</th>\n",
       "      <th>X1st_Point_of_Impact</th>\n",
       "    </tr>\n",
       "  </thead>\n",
       "  <tbody>\n",
       "    <tr>\n",
       "      <th>count</th>\n",
       "      <td>1075160</td>\n",
       "      <td>1075160</td>\n",
       "      <td>1.075160e+06</td>\n",
       "      <td>1009201</td>\n",
       "      <td>1.060112e+06</td>\n",
       "      <td>1075160</td>\n",
       "      <td>1075160</td>\n",
       "      <td>1075160</td>\n",
       "      <td>1075160</td>\n",
       "      <td>1.075139e+06</td>\n",
       "      <td>...</td>\n",
       "      <td>1075160</td>\n",
       "      <td>1075160</td>\n",
       "      <td>1075160</td>\n",
       "      <td>1075160</td>\n",
       "      <td>1.075147e+06</td>\n",
       "      <td>1075160</td>\n",
       "      <td>1.075160e+06</td>\n",
       "      <td>1075160</td>\n",
       "      <td>1075160</td>\n",
       "      <td>1075160</td>\n",
       "    </tr>\n",
       "    <tr>\n",
       "      <th>unique</th>\n",
       "      <td>775350</td>\n",
       "      <td>6</td>\n",
       "      <td>NaN</td>\n",
       "      <td>6</td>\n",
       "      <td>NaN</td>\n",
       "      <td>3</td>\n",
       "      <td>6</td>\n",
       "      <td>4383</td>\n",
       "      <td>7</td>\n",
       "      <td>NaN</td>\n",
       "      <td>...</td>\n",
       "      <td>3</td>\n",
       "      <td>6</td>\n",
       "      <td>6</td>\n",
       "      <td>9</td>\n",
       "      <td>NaN</td>\n",
       "      <td>18</td>\n",
       "      <td>NaN</td>\n",
       "      <td>20</td>\n",
       "      <td>2</td>\n",
       "      <td>5</td>\n",
       "    </tr>\n",
       "    <tr>\n",
       "      <th>top</th>\n",
       "      <td>2009559D05333</td>\n",
       "      <td>A</td>\n",
       "      <td>NaN</td>\n",
       "      <td>Unclassified</td>\n",
       "      <td>NaN</td>\n",
       "      <td>Slight</td>\n",
       "      <td>None</td>\n",
       "      <td>2015-05-13</td>\n",
       "      <td>Friday</td>\n",
       "      <td>NaN</td>\n",
       "      <td>...</td>\n",
       "      <td>Male</td>\n",
       "      <td>None</td>\n",
       "      <td>No tow/articulation</td>\n",
       "      <td>Did not leave carriageway</td>\n",
       "      <td>NaN</td>\n",
       "      <td>Going ahead other</td>\n",
       "      <td>NaN</td>\n",
       "      <td>Car</td>\n",
       "      <td>No</td>\n",
       "      <td>Front</td>\n",
       "    </tr>\n",
       "    <tr>\n",
       "      <th>freq</th>\n",
       "      <td>21</td>\n",
       "      <td>543047</td>\n",
       "      <td>NaN</td>\n",
       "      <td>678598</td>\n",
       "      <td>NaN</td>\n",
       "      <td>935411</td>\n",
       "      <td>1064669</td>\n",
       "      <td>515</td>\n",
       "      <td>178521</td>\n",
       "      <td>NaN</td>\n",
       "      <td>...</td>\n",
       "      <td>729725</td>\n",
       "      <td>972176</td>\n",
       "      <td>1062547</td>\n",
       "      <td>985309</td>\n",
       "      <td>NaN</td>\n",
       "      <td>471315</td>\n",
       "      <td>NaN</td>\n",
       "      <td>794148</td>\n",
       "      <td>1073855</td>\n",
       "      <td>525273</td>\n",
       "    </tr>\n",
       "    <tr>\n",
       "      <th>mean</th>\n",
       "      <td>NaN</td>\n",
       "      <td>NaN</td>\n",
       "      <td>1.048526e+03</td>\n",
       "      <td>NaN</td>\n",
       "      <td>6.010460e+02</td>\n",
       "      <td>NaN</td>\n",
       "      <td>NaN</td>\n",
       "      <td>NaN</td>\n",
       "      <td>NaN</td>\n",
       "      <td>1.151028e+00</td>\n",
       "      <td>...</td>\n",
       "      <td>NaN</td>\n",
       "      <td>NaN</td>\n",
       "      <td>NaN</td>\n",
       "      <td>NaN</td>\n",
       "      <td>8.498838e-02</td>\n",
       "      <td>NaN</td>\n",
       "      <td>1.513613e+00</td>\n",
       "      <td>NaN</td>\n",
       "      <td>NaN</td>\n",
       "      <td>NaN</td>\n",
       "    </tr>\n",
       "    <tr>\n",
       "      <th>std</th>\n",
       "      <td>NaN</td>\n",
       "      <td>NaN</td>\n",
       "      <td>1.828103e+03</td>\n",
       "      <td>NaN</td>\n",
       "      <td>1.589961e+03</td>\n",
       "      <td>NaN</td>\n",
       "      <td>NaN</td>\n",
       "      <td>NaN</td>\n",
       "      <td>NaN</td>\n",
       "      <td>3.619824e-01</td>\n",
       "      <td>...</td>\n",
       "      <td>NaN</td>\n",
       "      <td>NaN</td>\n",
       "      <td>NaN</td>\n",
       "      <td>NaN</td>\n",
       "      <td>7.761954e-01</td>\n",
       "      <td>NaN</td>\n",
       "      <td>6.595612e-01</td>\n",
       "      <td>NaN</td>\n",
       "      <td>NaN</td>\n",
       "      <td>NaN</td>\n",
       "    </tr>\n",
       "    <tr>\n",
       "      <th>min</th>\n",
       "      <td>NaN</td>\n",
       "      <td>NaN</td>\n",
       "      <td>0.000000e+00</td>\n",
       "      <td>NaN</td>\n",
       "      <td>0.000000e+00</td>\n",
       "      <td>NaN</td>\n",
       "      <td>NaN</td>\n",
       "      <td>NaN</td>\n",
       "      <td>NaN</td>\n",
       "      <td>1.000000e+00</td>\n",
       "      <td>...</td>\n",
       "      <td>NaN</td>\n",
       "      <td>NaN</td>\n",
       "      <td>NaN</td>\n",
       "      <td>NaN</td>\n",
       "      <td>0.000000e+00</td>\n",
       "      <td>NaN</td>\n",
       "      <td>1.000000e+00</td>\n",
       "      <td>NaN</td>\n",
       "      <td>NaN</td>\n",
       "      <td>NaN</td>\n",
       "    </tr>\n",
       "    <tr>\n",
       "      <th>25%</th>\n",
       "      <td>NaN</td>\n",
       "      <td>NaN</td>\n",
       "      <td>0.000000e+00</td>\n",
       "      <td>NaN</td>\n",
       "      <td>0.000000e+00</td>\n",
       "      <td>NaN</td>\n",
       "      <td>NaN</td>\n",
       "      <td>NaN</td>\n",
       "      <td>NaN</td>\n",
       "      <td>1.000000e+00</td>\n",
       "      <td>...</td>\n",
       "      <td>NaN</td>\n",
       "      <td>NaN</td>\n",
       "      <td>NaN</td>\n",
       "      <td>NaN</td>\n",
       "      <td>0.000000e+00</td>\n",
       "      <td>NaN</td>\n",
       "      <td>1.000000e+00</td>\n",
       "      <td>NaN</td>\n",
       "      <td>NaN</td>\n",
       "      <td>NaN</td>\n",
       "    </tr>\n",
       "    <tr>\n",
       "      <th>50%</th>\n",
       "      <td>NaN</td>\n",
       "      <td>NaN</td>\n",
       "      <td>1.860000e+02</td>\n",
       "      <td>NaN</td>\n",
       "      <td>0.000000e+00</td>\n",
       "      <td>NaN</td>\n",
       "      <td>NaN</td>\n",
       "      <td>NaN</td>\n",
       "      <td>NaN</td>\n",
       "      <td>1.000000e+00</td>\n",
       "      <td>...</td>\n",
       "      <td>NaN</td>\n",
       "      <td>NaN</td>\n",
       "      <td>NaN</td>\n",
       "      <td>NaN</td>\n",
       "      <td>0.000000e+00</td>\n",
       "      <td>NaN</td>\n",
       "      <td>1.000000e+00</td>\n",
       "      <td>NaN</td>\n",
       "      <td>NaN</td>\n",
       "      <td>NaN</td>\n",
       "    </tr>\n",
       "    <tr>\n",
       "      <th>75%</th>\n",
       "      <td>NaN</td>\n",
       "      <td>NaN</td>\n",
       "      <td>8.160000e+02</td>\n",
       "      <td>NaN</td>\n",
       "      <td>1.580000e+02</td>\n",
       "      <td>NaN</td>\n",
       "      <td>NaN</td>\n",
       "      <td>NaN</td>\n",
       "      <td>NaN</td>\n",
       "      <td>1.000000e+00</td>\n",
       "      <td>...</td>\n",
       "      <td>NaN</td>\n",
       "      <td>NaN</td>\n",
       "      <td>NaN</td>\n",
       "      <td>NaN</td>\n",
       "      <td>0.000000e+00</td>\n",
       "      <td>NaN</td>\n",
       "      <td>2.000000e+00</td>\n",
       "      <td>NaN</td>\n",
       "      <td>NaN</td>\n",
       "      <td>NaN</td>\n",
       "    </tr>\n",
       "    <tr>\n",
       "      <th>max</th>\n",
       "      <td>NaN</td>\n",
       "      <td>NaN</td>\n",
       "      <td>9.999000e+03</td>\n",
       "      <td>NaN</td>\n",
       "      <td>9.999000e+03</td>\n",
       "      <td>NaN</td>\n",
       "      <td>NaN</td>\n",
       "      <td>NaN</td>\n",
       "      <td>NaN</td>\n",
       "      <td>3.000000e+00</td>\n",
       "      <td>...</td>\n",
       "      <td>NaN</td>\n",
       "      <td>NaN</td>\n",
       "      <td>NaN</td>\n",
       "      <td>NaN</td>\n",
       "      <td>9.000000e+00</td>\n",
       "      <td>NaN</td>\n",
       "      <td>9.100000e+01</td>\n",
       "      <td>NaN</td>\n",
       "      <td>NaN</td>\n",
       "      <td>NaN</td>\n",
       "    </tr>\n",
       "  </tbody>\n",
       "</table>\n",
       "<p>11 rows × 56 columns</p>\n",
       "</div>"
      ],
      "text/plain": [
       "       Accident_Index 1st_Road_Class  1st_Road_Number 2nd_Road_Class  \\\n",
       "count         1075160        1075160     1.075160e+06        1009201   \n",
       "unique         775350              6              NaN              6   \n",
       "top     2009559D05333              A              NaN   Unclassified   \n",
       "freq               21         543047              NaN         678598   \n",
       "mean              NaN            NaN     1.048526e+03            NaN   \n",
       "std               NaN            NaN     1.828103e+03            NaN   \n",
       "min               NaN            NaN     0.000000e+00            NaN   \n",
       "25%               NaN            NaN     0.000000e+00            NaN   \n",
       "50%               NaN            NaN     1.860000e+02            NaN   \n",
       "75%               NaN            NaN     8.160000e+02            NaN   \n",
       "max               NaN            NaN     9.999000e+03            NaN   \n",
       "\n",
       "        2nd_Road_Number Accident_Severity Carriageway_Hazards        Date  \\\n",
       "count      1.060112e+06           1075160             1075160     1075160   \n",
       "unique              NaN                 3                   6        4383   \n",
       "top                 NaN            Slight                None  2015-05-13   \n",
       "freq                NaN            935411             1064669         515   \n",
       "mean       6.010460e+02               NaN                 NaN         NaN   \n",
       "std        1.589961e+03               NaN                 NaN         NaN   \n",
       "min        0.000000e+00               NaN                 NaN         NaN   \n",
       "25%        0.000000e+00               NaN                 NaN         NaN   \n",
       "50%        0.000000e+00               NaN                 NaN         NaN   \n",
       "75%        1.580000e+02               NaN                 NaN         NaN   \n",
       "max        9.999000e+03               NaN                 NaN         NaN   \n",
       "\n",
       "       Day_of_Week  Did_Police_Officer_Attend_Scene_of_Accident  ...  \\\n",
       "count      1075160                                 1.075139e+06  ...   \n",
       "unique           7                                          NaN  ...   \n",
       "top         Friday                                          NaN  ...   \n",
       "freq        178521                                          NaN  ...   \n",
       "mean           NaN                                 1.151028e+00  ...   \n",
       "std            NaN                                 3.619824e-01  ...   \n",
       "min            NaN                                 1.000000e+00  ...   \n",
       "25%            NaN                                 1.000000e+00  ...   \n",
       "50%            NaN                                 1.000000e+00  ...   \n",
       "75%            NaN                                 1.000000e+00  ...   \n",
       "max            NaN                                 3.000000e+00  ...   \n",
       "\n",
       "       Sex_of_Driver Skidding_and_Overturning  Towing_and_Articulation  \\\n",
       "count        1075160                  1075160                  1075160   \n",
       "unique             3                        6                        6   \n",
       "top             Male                     None      No tow/articulation   \n",
       "freq          729725                   972176                  1062547   \n",
       "mean             NaN                      NaN                      NaN   \n",
       "std              NaN                      NaN                      NaN   \n",
       "min              NaN                      NaN                      NaN   \n",
       "25%              NaN                      NaN                      NaN   \n",
       "50%              NaN                      NaN                      NaN   \n",
       "75%              NaN                      NaN                      NaN   \n",
       "max              NaN                      NaN                      NaN   \n",
       "\n",
       "       Vehicle_Leaving_Carriageway Vehicle_Location.Restricted_Lane  \\\n",
       "count                      1075160                     1.075147e+06   \n",
       "unique                           9                              NaN   \n",
       "top      Did not leave carriageway                              NaN   \n",
       "freq                        985309                              NaN   \n",
       "mean                           NaN                     8.498838e-02   \n",
       "std                            NaN                     7.761954e-01   \n",
       "min                            NaN                     0.000000e+00   \n",
       "25%                            NaN                     0.000000e+00   \n",
       "50%                            NaN                     0.000000e+00   \n",
       "75%                            NaN                     0.000000e+00   \n",
       "max                            NaN                     9.000000e+00   \n",
       "\n",
       "        Vehicle_Manoeuvre  Vehicle_Reference  Vehicle_Type  \\\n",
       "count             1075160       1.075160e+06       1075160   \n",
       "unique                 18                NaN            20   \n",
       "top     Going ahead other                NaN           Car   \n",
       "freq               471315                NaN        794148   \n",
       "mean                  NaN       1.513613e+00           NaN   \n",
       "std                   NaN       6.595612e-01           NaN   \n",
       "min                   NaN       1.000000e+00           NaN   \n",
       "25%                   NaN       1.000000e+00           NaN   \n",
       "50%                   NaN       1.000000e+00           NaN   \n",
       "75%                   NaN       2.000000e+00           NaN   \n",
       "max                   NaN       9.100000e+01           NaN   \n",
       "\n",
       "        Was_Vehicle_Left_Hand_Drive X1st_Point_of_Impact  \n",
       "count                       1075160              1075160  \n",
       "unique                            2                    5  \n",
       "top                              No                Front  \n",
       "freq                        1073855               525273  \n",
       "mean                            NaN                  NaN  \n",
       "std                             NaN                  NaN  \n",
       "min                             NaN                  NaN  \n",
       "25%                             NaN                  NaN  \n",
       "50%                             NaN                  NaN  \n",
       "75%                             NaN                  NaN  \n",
       "max                             NaN                  NaN  \n",
       "\n",
       "[11 rows x 56 columns]"
      ]
     },
     "execution_count": 10,
     "metadata": {},
     "output_type": "execute_result"
    }
   ],
   "source": [
    "df.describe(include ='all')"
   ]
  },
  {
   "cell_type": "code",
   "execution_count": 11,
   "id": "0108a855",
   "metadata": {},
   "outputs": [
    {
     "name": "stdout",
     "output_type": "stream",
     "text": [
      "0.9994280892528802\n",
      "0.999973244937995\n"
     ]
    }
   ],
   "source": [
    "#check corr b/t Location_Easting_OSGR & Location_Northing_OSGR AND Longitude and Latitude\n",
    "\n",
    "print(df['Location_Easting_OSGR'].corr(df['Longitude']))\n",
    "\n",
    "\n",
    "print(df['Location_Northing_OSGR'].corr(df['Latitude']))"
   ]
  },
  {
   "cell_type": "code",
   "execution_count": 12,
   "id": "b26e14de",
   "metadata": {},
   "outputs": [],
   "source": [
    "#drop Location_Easting_OSGR & Location_Northing_OSGR\n",
    "#because they are the similar to Latitude and Longitude \n",
    "\n",
    "df = df.drop(['Location_Easting_OSGR', 'Location_Northing_OSGR'], axis=1)"
   ]
  },
  {
   "cell_type": "code",
   "execution_count": 13,
   "id": "acdfe6f5",
   "metadata": {},
   "outputs": [
    {
     "data": {
      "text/plain": [
       "(1075160, 54)"
      ]
     },
     "execution_count": 13,
     "metadata": {},
     "output_type": "execute_result"
    }
   ],
   "source": [
    "df.shape"
   ]
  },
  {
   "cell_type": "code",
   "execution_count": 14,
   "id": "6f7adda0",
   "metadata": {},
   "outputs": [
    {
     "name": "stderr",
     "output_type": "stream",
     "text": [
      "C:\\Users\\Shridatta\\AppData\\Local\\Temp\\ipykernel_6296\\2831236610.py:4: FutureWarning: The default value of regex will change from True to False in a future version. In addition, single character regular expressions will*not* be treated as literal strings when regex=True.\n",
      "  df.columns = df.columns.str.replace('.','')\n",
      "C:\\Users\\Shridatta\\AppData\\Local\\Temp\\ipykernel_6296\\2831236610.py:5: FutureWarning: The default value of regex will change from True to False in a future version. In addition, single character regular expressions will*not* be treated as literal strings when regex=True.\n",
      "  df.columns = df.columns.str.replace('(','')\n",
      "C:\\Users\\Shridatta\\AppData\\Local\\Temp\\ipykernel_6296\\2831236610.py:6: FutureWarning: The default value of regex will change from True to False in a future version. In addition, single character regular expressions will*not* be treated as literal strings when regex=True.\n",
      "  df.columns = df.columns.str.replace(')','')\n"
     ]
    }
   ],
   "source": [
    "#standardize all column names to lowercase, and remove some characters \n",
    "#for ease of use in querying\n",
    "df.columns = map(str.lower, df.columns)\n",
    "df.columns = df.columns.str.replace('.','')\n",
    "df.columns = df.columns.str.replace('(','')\n",
    "df.columns = df.columns.str.replace(')','')"
   ]
  },
  {
   "cell_type": "code",
   "execution_count": 15,
   "id": "824202d3",
   "metadata": {},
   "outputs": [],
   "source": [
    "#convert date/time to datetime datatype\n",
    "\n",
    "df['date'] = pd.to_datetime((df['date']), format= \"%Y-%m-%d\")"
   ]
  },
  {
   "cell_type": "code",
   "execution_count": 16,
   "id": "0e2d00e6",
   "metadata": {},
   "outputs": [
    {
     "data": {
      "text/plain": [
       "accident_index                                         object\n",
       "1st_road_class                                         object\n",
       "1st_road_number                                       float64\n",
       "2nd_road_class                                         object\n",
       "2nd_road_number                                       float64\n",
       "accident_severity                                      object\n",
       "carriageway_hazards                                    object\n",
       "date                                           datetime64[ns]\n",
       "day_of_week                                            object\n",
       "did_police_officer_attend_scene_of_accident           float64\n",
       "junction_control                                       object\n",
       "junction_detail                                        object\n",
       "latitude                                              float64\n",
       "light_conditions                                       object\n",
       "local_authority_district                               object\n",
       "local_authority_highway                                object\n",
       "longitude                                             float64\n",
       "lsoa_of_accident_location                              object\n",
       "number_of_casualties                                    int64\n",
       "number_of_vehicles                                      int64\n",
       "pedestrian_crossing-human_control                     float64\n",
       "pedestrian_crossing-physical_facilities               float64\n",
       "police_force                                           object\n",
       "road_surface_conditions                                object\n",
       "road_type                                              object\n",
       "special_conditions_at_site                             object\n",
       "speed_limit                                           float64\n",
       "time                                                   object\n",
       "urban_or_rural_area                                    object\n",
       "weather_conditions                                     object\n",
       "year                                                    int64\n",
       "inscotland                                             object\n",
       "age_band_of_driver                                     object\n",
       "age_of_vehicle                                        float64\n",
       "driver_home_area_type                                  object\n",
       "driver_imd_decile                                     float64\n",
       "engine_capacity_cc                                    float64\n",
       "hit_object_in_carriageway                              object\n",
       "hit_object_off_carriageway                             object\n",
       "journey_purpose_of_driver                              object\n",
       "junction_location                                      object\n",
       "make                                                   object\n",
       "model                                                  object\n",
       "propulsion_code                                        object\n",
       "sex_of_driver                                          object\n",
       "skidding_and_overturning                               object\n",
       "towing_and_articulation                                object\n",
       "vehicle_leaving_carriageway                            object\n",
       "vehicle_locationrestricted_lane                       float64\n",
       "vehicle_manoeuvre                                      object\n",
       "vehicle_reference                                       int64\n",
       "vehicle_type                                           object\n",
       "was_vehicle_left_hand_drive                            object\n",
       "x1st_point_of_impact                                   object\n",
       "dtype: object"
      ]
     },
     "execution_count": 16,
     "metadata": {},
     "output_type": "execute_result"
    }
   ],
   "source": [
    "df.dtypes"
   ]
  },
  {
   "cell_type": "code",
   "execution_count": 17,
   "id": "9d442589",
   "metadata": {},
   "outputs": [],
   "source": [
    "#mistyped datatypes\n",
    "\n",
    "df[['did_police_officer_attend_scene_of_accident',\n",
    "    'driver_imd_decile','vehicle_reference',\n",
    "    'vehicle_locationrestricted_lane','1st_road_number',\n",
    "    '2nd_road_number','driver_imd_decile',\n",
    "    'pedestrian_crossing-physical_facilities',\n",
    "   'pedestrian_crossing-human_control']]= df[['did_police_officer_attend_scene_of_accident',\n",
    "    'driver_imd_decile','vehicle_reference',\n",
    "    'vehicle_locationrestricted_lane','1st_road_number',\n",
    "    '2nd_road_number','driver_imd_decile',\n",
    "    'pedestrian_crossing-physical_facilities',\n",
    "   'pedestrian_crossing-human_control']].astype('object')"
   ]
  },
  {
   "cell_type": "code",
   "execution_count": 18,
   "id": "5797674d",
   "metadata": {},
   "outputs": [
    {
     "data": {
      "text/plain": [
       "{datetime64[ns]: ['date'], int64: ['number_of_casualties', 'number_of_vehicles', 'year'], float64: ['latitude', 'longitude', 'speed_limit', 'age_of_vehicle', 'engine_capacity_cc'], object: ['accident_index', '1st_road_class', '1st_road_number', '2nd_road_class', '2nd_road_number', 'accident_severity', 'carriageway_hazards', 'day_of_week', 'did_police_officer_attend_scene_of_accident', 'junction_control', 'junction_detail', 'light_conditions', 'local_authority_district', 'local_authority_highway', 'lsoa_of_accident_location', 'pedestrian_crossing-human_control', 'pedestrian_crossing-physical_facilities', 'police_force', 'road_surface_conditions', 'road_type', 'special_conditions_at_site', 'time', 'urban_or_rural_area', 'weather_conditions', 'inscotland', 'age_band_of_driver', 'driver_home_area_type', 'driver_imd_decile', 'hit_object_in_carriageway', 'hit_object_off_carriageway', 'journey_purpose_of_driver', 'junction_location', 'make', 'model', 'propulsion_code', 'sex_of_driver', 'skidding_and_overturning', 'towing_and_articulation', 'vehicle_leaving_carriageway', 'vehicle_locationrestricted_lane', 'vehicle_manoeuvre', 'vehicle_reference', 'vehicle_type', 'was_vehicle_left_hand_drive', 'x1st_point_of_impact']}"
      ]
     },
     "execution_count": 18,
     "metadata": {},
     "output_type": "execute_result"
    }
   ],
   "source": [
    "df.columns.to_series().groupby(df.dtypes).groups"
   ]
  },
  {
   "cell_type": "code",
   "execution_count": 19,
   "id": "e328f6d1",
   "metadata": {},
   "outputs": [
    {
     "data": {
      "text/plain": [
       "driver_imd_decile                              20.398266\n",
       "age_of_vehicle                                 14.595967\n",
       "model                                          12.604264\n",
       "engine_capacity_cc                             10.274657\n",
       "propulsion_code                                 9.500725\n",
       "2nd_road_class                                  6.134808\n",
       "lsoa_of_accident_location                       5.848060\n",
       "make                                            3.916719\n",
       "2nd_road_number                                 1.399606\n",
       "time                                            0.006325\n",
       "pedestrian_crossing-physical_facilities         0.004929\n",
       "pedestrian_crossing-human_control               0.003720\n",
       "did_police_officer_attend_scene_of_accident     0.001953\n",
       "speed_limit                                     0.001209\n",
       "vehicle_locationrestricted_lane                 0.001209\n",
       "was_vehicle_left_hand_drive                     0.000000\n",
       "driver_home_area_type                           0.000000\n",
       "vehicle_type                                    0.000000\n",
       "vehicle_reference                               0.000000\n",
       "hit_object_in_carriageway                       0.000000\n",
       "hit_object_off_carriageway                      0.000000\n",
       "vehicle_leaving_carriageway                     0.000000\n",
       "towing_and_articulation                         0.000000\n",
       "journey_purpose_of_driver                       0.000000\n",
       "junction_location                               0.000000\n",
       "vehicle_manoeuvre                               0.000000\n",
       "inscotland                                      0.000000\n",
       "sex_of_driver                                   0.000000\n",
       "skidding_and_overturning                        0.000000\n",
       "age_band_of_driver                              0.000000\n",
       "accident_index                                  0.000000\n",
       "year                                            0.000000\n",
       "local_authority_district                        0.000000\n",
       "1st_road_number                                 0.000000\n",
       "accident_severity                               0.000000\n",
       "carriageway_hazards                             0.000000\n",
       "date                                            0.000000\n",
       "day_of_week                                     0.000000\n",
       "junction_control                                0.000000\n",
       "junction_detail                                 0.000000\n",
       "latitude                                        0.000000\n",
       "light_conditions                                0.000000\n",
       "local_authority_highway                         0.000000\n",
       "weather_conditions                              0.000000\n",
       "longitude                                       0.000000\n",
       "number_of_casualties                            0.000000\n",
       "number_of_vehicles                              0.000000\n",
       "police_force                                    0.000000\n",
       "road_surface_conditions                         0.000000\n",
       "road_type                                       0.000000\n",
       "special_conditions_at_site                      0.000000\n",
       "1st_road_class                                  0.000000\n",
       "urban_or_rural_area                             0.000000\n",
       "x1st_point_of_impact                            0.000000\n",
       "dtype: float64"
      ]
     },
     "execution_count": 19,
     "metadata": {},
     "output_type": "execute_result"
    }
   ],
   "source": [
    "df.isnull().sum().sort_values(ascending=False)/df.shape[0]*100"
   ]
  },
  {
   "cell_type": "code",
   "execution_count": 20,
   "id": "c3ba42d3",
   "metadata": {},
   "outputs": [
    {
     "data": {
      "text/plain": [
       "(1075160, 54)"
      ]
     },
     "execution_count": 20,
     "metadata": {},
     "output_type": "execute_result"
    }
   ],
   "source": [
    "df.shape"
   ]
  },
  {
   "cell_type": "code",
   "execution_count": 21,
   "id": "008af085",
   "metadata": {},
   "outputs": [
    {
     "data": {
      "text/plain": [
       "Unclassified    63.116001\n",
       "A               15.575821\n",
       "C                7.420849\n",
       "B                6.329756\n",
       "Motorway         1.283995\n",
       "A(M)             0.138770\n",
       "Name: 2nd_road_class, dtype: float64"
      ]
     },
     "execution_count": 21,
     "metadata": {},
     "output_type": "execute_result"
    }
   ],
   "source": [
    "# #2nd_road_class\n",
    "df['2nd_road_class'].value_counts()/df.shape[0]*100"
   ]
  },
  {
   "cell_type": "markdown",
   "id": "1f0e105b",
   "metadata": {},
   "source": [
    "With 63% of non null being unclassified, so decided to drop entire column."
   ]
  },
  {
   "cell_type": "code",
   "execution_count": 22,
   "id": "b5507462",
   "metadata": {},
   "outputs": [],
   "source": [
    "df = df.drop(['2nd_road_class'], axis=1)"
   ]
  },
  {
   "cell_type": "code",
   "execution_count": 23,
   "id": "216431f7",
   "metadata": {},
   "outputs": [
    {
     "data": {
      "text/plain": [
       "(1075160, 53)"
      ]
     },
     "execution_count": 23,
     "metadata": {},
     "output_type": "execute_result"
    }
   ],
   "source": [
    "df.shape"
   ]
  },
  {
   "cell_type": "code",
   "execution_count": 24,
   "id": "d8be190d",
   "metadata": {},
   "outputs": [
    {
     "data": {
      "text/plain": [
       "2.0     8.740839\n",
       "3.0     8.640202\n",
       "4.0     8.375126\n",
       "1.0     8.285557\n",
       "5.0     8.164366\n",
       "6.0     8.061498\n",
       "7.0     7.772518\n",
       "8.0     7.513114\n",
       "9.0     7.338815\n",
       "10.0    6.709699\n",
       "Name: driver_imd_decile, dtype: float64"
      ]
     },
     "execution_count": 24,
     "metadata": {},
     "output_type": "execute_result"
    }
   ],
   "source": [
    "#driver_imd_decile\n",
    "df['driver_imd_decile'].value_counts()/df.shape[0]*100"
   ]
  },
  {
   "cell_type": "markdown",
   "id": "384b9ed1",
   "metadata": {},
   "source": [
    "Since the distribution of categories for 'driver_imd_decile seem very similar, I've decided not to use the mode but \"method='ffill'\""
   ]
  },
  {
   "cell_type": "code",
   "execution_count": 25,
   "id": "cb3a2c71",
   "metadata": {},
   "outputs": [],
   "source": [
    "df['driver_imd_decile'].fillna(method='ffill', inplace=True)"
   ]
  },
  {
   "cell_type": "code",
   "execution_count": 26,
   "id": "7ca2507f",
   "metadata": {},
   "outputs": [
    {
     "data": {
      "text/plain": [
       "count    918230.000000\n",
       "mean          7.114115\n",
       "std           4.709709\n",
       "min           1.000000\n",
       "25%           3.000000\n",
       "50%           7.000000\n",
       "75%          10.000000\n",
       "max         105.000000\n",
       "Name: age_of_vehicle, dtype: float64"
      ]
     },
     "execution_count": 26,
     "metadata": {},
     "output_type": "execute_result"
    }
   ],
   "source": [
    "df['age_of_vehicle'].describe()"
   ]
  },
  {
   "cell_type": "code",
   "execution_count": 27,
   "id": "37e868b8",
   "metadata": {},
   "outputs": [
    {
     "data": {
      "text/plain": [
       "7.0"
      ]
     },
     "execution_count": 27,
     "metadata": {},
     "output_type": "execute_result"
    }
   ],
   "source": [
    "df['age_of_vehicle'].median()"
   ]
  },
  {
   "cell_type": "code",
   "execution_count": 28,
   "id": "9c064594",
   "metadata": {},
   "outputs": [],
   "source": [
    "#fillna by 7 \n",
    "df['age_of_vehicle'].fillna(7, inplace=True)"
   ]
  },
  {
   "cell_type": "code",
   "execution_count": 29,
   "id": "36a1003f",
   "metadata": {},
   "outputs": [
    {
     "data": {
      "text/plain": [
       "(1075160, 53)"
      ]
     },
     "execution_count": 29,
     "metadata": {},
     "output_type": "execute_result"
    }
   ],
   "source": [
    "df.shape"
   ]
  },
  {
   "cell_type": "code",
   "execution_count": 30,
   "id": "ee5e8b9a",
   "metadata": {},
   "outputs": [
    {
     "data": {
      "text/plain": [
       "MISSING                           0.497879\n",
       "CLIO DYNAMIQUE 16V                0.353901\n",
       "PUNTO ACTIVE                      0.258008\n",
       "KA                                0.225548\n",
       "206 LX                            0.207411\n",
       "                                    ...   \n",
       "420D XDRIVE LUXURY AUTO           0.000093\n",
       "JETTA LX                          0.000093\n",
       "RS5 LIMITED EDIT FSI QUATTR       0.000093\n",
       "NOTE ACENTA PREMIUM SAFE DIG-S    0.000093\n",
       "TREKKER ROAD                      0.000093\n",
       "Name: model, Length: 31348, dtype: float64"
      ]
     },
     "execution_count": 30,
     "metadata": {},
     "output_type": "execute_result"
    }
   ],
   "source": [
    "#model\n",
    "df['model'].value_counts()/df.shape[0]*100"
   ]
  },
  {
   "cell_type": "code",
   "execution_count": 31,
   "id": "f0652279",
   "metadata": {},
   "outputs": [
    {
     "data": {
      "text/plain": [
       "count      939644\n",
       "unique      31348\n",
       "top       MISSING\n",
       "freq         5353\n",
       "Name: model, dtype: object"
      ]
     },
     "execution_count": 31,
     "metadata": {},
     "output_type": "execute_result"
    }
   ],
   "source": [
    "df['model'].describe()"
   ]
  },
  {
   "cell_type": "code",
   "execution_count": 32,
   "id": "abbd7310",
   "metadata": {},
   "outputs": [],
   "source": [
    "df['model'].fillna(method='ffill', inplace=True)"
   ]
  },
  {
   "cell_type": "markdown",
   "id": "7f5d7ce3",
   "metadata": {},
   "source": [
    "Note: A lot of the values of \"model' are labeled as \"missing\". I do not want to change these because the model could have actually been missing from the car from the accident or it could not be recognizable at the time of the accident."
   ]
  },
  {
   "cell_type": "code",
   "execution_count": 33,
   "id": "4f34cd9c",
   "metadata": {},
   "outputs": [
    {
     "data": {
      "text/plain": [
       "count    964691.000000\n",
       "mean       1928.804717\n",
       "std        1746.934017\n",
       "min           1.000000\n",
       "25%        1248.000000\n",
       "50%        1598.000000\n",
       "75%        1995.000000\n",
       "max       91000.000000\n",
       "Name: engine_capacity_cc, dtype: float64"
      ]
     },
     "execution_count": 33,
     "metadata": {},
     "output_type": "execute_result"
    }
   ],
   "source": [
    "#engine_capacity_cc\n",
    "df['engine_capacity_cc'].describe()"
   ]
  },
  {
   "cell_type": "code",
   "execution_count": 34,
   "id": "a0bdaadc",
   "metadata": {},
   "outputs": [
    {
     "name": "stdout",
     "output_type": "stream",
     "text": [
      "3115.5\n",
      "127.5\n"
     ]
    }
   ],
   "source": [
    "import numpy as np\n",
    "#first I'm going to handle both ends of outliers.\n",
    "#(determine the min and max cuttoffs for detecting the outlier)\n",
    "q75, q25 = np.percentile(df['engine_capacity_cc'].dropna(), [75 ,25])\n",
    "iqr = q75 - q25\n",
    " \n",
    "ecmin = q25 - (iqr*1.5)\n",
    "ecmax = q75 + (iqr*1.5)\n",
    "\n",
    "print(ecmax)\n",
    "print(ecmin)"
   ]
  },
  {
   "cell_type": "markdown",
   "id": "3b7874fe",
   "metadata": {},
   "source": [
    "Using the ecmax number for the maximum engine_capacity_cc and ecmin for my engine_capacity_cc. Then going to take the mean of those and use it as my fillna. And also ouliers are removed from the data."
   ]
  },
  {
   "cell_type": "code",
   "execution_count": 35,
   "id": "db8b2957",
   "metadata": {},
   "outputs": [
    {
     "data": {
      "image/png": "[encoded data removed]",
      "text/plain": [
       "<Figure size 640x480 with 1 Axes>"
      ]
     },
     "metadata": {},
     "output_type": "display_data"
    }
   ],
   "source": [
    "import matplotlib.pyplot as plt\n",
    "df = df[df['engine_capacity_cc']<=ecmax]\n",
    "df = df[df['engine_capacity_cc']>=ecmin]\n",
    "df['engine_capacity_cc'].hist(bins=20)\n",
    "plt.style.use('dark_background')"
   ]
  },
  {
   "cell_type": "code",
   "execution_count": 36,
   "id": "ab5a884a",
   "metadata": {},
   "outputs": [
    {
     "data": {
      "text/plain": [
       "count    852559.000000\n",
       "mean       1637.052930\n",
       "std         484.345154\n",
       "min         128.000000\n",
       "25%        1299.000000\n",
       "50%        1598.000000\n",
       "75%        1984.000000\n",
       "max        3113.000000\n",
       "Name: engine_capacity_cc, dtype: float64"
      ]
     },
     "execution_count": 36,
     "metadata": {},
     "output_type": "execute_result"
    }
   ],
   "source": [
    "#check values of 'engine_capacity_cc'\n",
    "df['engine_capacity_cc'].describe()"
   ]
  },
  {
   "cell_type": "code",
   "execution_count": 37,
   "id": "3fdeb82c",
   "metadata": {},
   "outputs": [],
   "source": [
    "df['engine_capacity_cc'].fillna(1637, inplace=True)"
   ]
  },
  {
   "cell_type": "markdown",
   "id": "69fd121e",
   "metadata": {},
   "source": [
    "Note: After doing the above null fixes, propulsion_code dropped from having 10% null values to 0. (see below). And continue on fixing the lsoa_of_accident_location then drop the rest of the null values with are all <5%."
   ]
  },
  {
   "cell_type": "code",
   "execution_count": 38,
   "id": "602d7df0",
   "metadata": {},
   "outputs": [
    {
     "data": {
      "text/plain": [
       "(852559, 53)"
      ]
     },
     "execution_count": 38,
     "metadata": {},
     "output_type": "execute_result"
    }
   ],
   "source": [
    "df.shape"
   ]
  },
  {
   "cell_type": "code",
   "execution_count": 39,
   "id": "7fa74567",
   "metadata": {},
   "outputs": [
    {
     "data": {
      "text/plain": [
       "lsoa_of_accident_location                      5.979176\n",
       "2nd_road_number                                1.420664\n",
       "make                                           0.042109\n",
       "time                                           0.005630\n",
       "pedestrian_crossing-physical_facilities        0.004223\n",
       "pedestrian_crossing-human_control              0.003871\n",
       "did_police_officer_attend_scene_of_accident    0.001994\n",
       "vehicle_locationrestricted_lane                0.001173\n",
       "speed_limit                                    0.000821\n",
       "propulsion_code                                0.000117\n",
       "driver_home_area_type                          0.000000\n",
       "driver_imd_decile                              0.000000\n",
       "journey_purpose_of_driver                      0.000000\n",
       "engine_capacity_cc                             0.000000\n",
       "hit_object_in_carriageway                      0.000000\n",
       "hit_object_off_carriageway                     0.000000\n",
       "age_of_vehicle                                 0.000000\n",
       "model                                          0.000000\n",
       "junction_location                              0.000000\n",
       "inscotland                                     0.000000\n",
       "sex_of_driver                                  0.000000\n",
       "skidding_and_overturning                       0.000000\n",
       "towing_and_articulation                        0.000000\n",
       "vehicle_leaving_carriageway                    0.000000\n",
       "vehicle_manoeuvre                              0.000000\n",
       "vehicle_reference                              0.000000\n",
       "vehicle_type                                   0.000000\n",
       "was_vehicle_left_hand_drive                    0.000000\n",
       "age_band_of_driver                             0.000000\n",
       "accident_index                                 0.000000\n",
       "year                                           0.000000\n",
       "local_authority_district                       0.000000\n",
       "1st_road_number                                0.000000\n",
       "accident_severity                              0.000000\n",
       "carriageway_hazards                            0.000000\n",
       "date                                           0.000000\n",
       "day_of_week                                    0.000000\n",
       "junction_control                               0.000000\n",
       "junction_detail                                0.000000\n",
       "latitude                                       0.000000\n",
       "light_conditions                               0.000000\n",
       "local_authority_highway                        0.000000\n",
       "weather_conditions                             0.000000\n",
       "longitude                                      0.000000\n",
       "number_of_casualties                           0.000000\n",
       "number_of_vehicles                             0.000000\n",
       "police_force                                   0.000000\n",
       "road_surface_conditions                        0.000000\n",
       "road_type                                      0.000000\n",
       "special_conditions_at_site                     0.000000\n",
       "1st_road_class                                 0.000000\n",
       "urban_or_rural_area                            0.000000\n",
       "x1st_point_of_impact                           0.000000\n",
       "dtype: float64"
      ]
     },
     "execution_count": 39,
     "metadata": {},
     "output_type": "execute_result"
    }
   ],
   "source": [
    "df.isnull().sum().sort_values(ascending=False)/df.shape[0]*100"
   ]
  },
  {
   "cell_type": "code",
   "execution_count": 40,
   "id": "3a478cdf",
   "metadata": {},
   "outputs": [
    {
     "data": {
      "text/plain": [
       "E01000004    789\n",
       "E01004736    570\n",
       "E01018648    545\n",
       "E01023722    453\n",
       "E01032739    440\n",
       "            ... \n",
       "E01015803      1\n",
       "E01025102      1\n",
       "E01006019      1\n",
       "E01016244      1\n",
       "E01010581      1\n",
       "Name: lsoa_of_accident_location, Length: 34842, dtype: int64"
      ]
     },
     "execution_count": 40,
     "metadata": {},
     "output_type": "execute_result"
    }
   ],
   "source": [
    "# #lsoa_of_accident_location\n",
    "df['lsoa_of_accident_location'].value_counts()"
   ]
  },
  {
   "cell_type": "code",
   "execution_count": 41,
   "id": "00c6631c",
   "metadata": {},
   "outputs": [
    {
     "data": {
      "text/plain": [
       "count        801583\n",
       "unique        34842\n",
       "top       E01000004\n",
       "freq            789\n",
       "Name: lsoa_of_accident_location, dtype: object"
      ]
     },
     "execution_count": 41,
     "metadata": {},
     "output_type": "execute_result"
    }
   ],
   "source": [
    "df['lsoa_of_accident_location'].describe()"
   ]
  },
  {
   "cell_type": "code",
   "execution_count": 42,
   "id": "dc1b2545",
   "metadata": {},
   "outputs": [],
   "source": [
    "df['lsoa_of_accident_location'].fillna(method='ffill', inplace=True)"
   ]
  },
  {
   "cell_type": "code",
   "execution_count": 43,
   "id": "bdce0cba",
   "metadata": {},
   "outputs": [
    {
     "data": {
      "text/plain": [
       "2nd_road_number                                1.420664\n",
       "make                                           0.042109\n",
       "time                                           0.005630\n",
       "pedestrian_crossing-physical_facilities        0.004223\n",
       "pedestrian_crossing-human_control              0.003871\n",
       "did_police_officer_attend_scene_of_accident    0.001994\n",
       "vehicle_locationrestricted_lane                0.001173\n",
       "speed_limit                                    0.000821\n",
       "propulsion_code                                0.000117\n",
       "driver_home_area_type                          0.000000\n",
       "journey_purpose_of_driver                      0.000000\n",
       "driver_imd_decile                              0.000000\n",
       "engine_capacity_cc                             0.000000\n",
       "hit_object_in_carriageway                      0.000000\n",
       "age_of_vehicle                                 0.000000\n",
       "age_band_of_driver                             0.000000\n",
       "hit_object_off_carriageway                     0.000000\n",
       "model                                          0.000000\n",
       "junction_location                              0.000000\n",
       "year                                           0.000000\n",
       "sex_of_driver                                  0.000000\n",
       "skidding_and_overturning                       0.000000\n",
       "towing_and_articulation                        0.000000\n",
       "vehicle_leaving_carriageway                    0.000000\n",
       "vehicle_manoeuvre                              0.000000\n",
       "vehicle_reference                              0.000000\n",
       "vehicle_type                                   0.000000\n",
       "was_vehicle_left_hand_drive                    0.000000\n",
       "inscotland                                     0.000000\n",
       "accident_index                                 0.000000\n",
       "weather_conditions                             0.000000\n",
       "local_authority_district                       0.000000\n",
       "1st_road_number                                0.000000\n",
       "accident_severity                              0.000000\n",
       "carriageway_hazards                            0.000000\n",
       "date                                           0.000000\n",
       "day_of_week                                    0.000000\n",
       "junction_control                               0.000000\n",
       "junction_detail                                0.000000\n",
       "latitude                                       0.000000\n",
       "light_conditions                               0.000000\n",
       "local_authority_highway                        0.000000\n",
       "urban_or_rural_area                            0.000000\n",
       "longitude                                      0.000000\n",
       "lsoa_of_accident_location                      0.000000\n",
       "number_of_casualties                           0.000000\n",
       "number_of_vehicles                             0.000000\n",
       "police_force                                   0.000000\n",
       "road_surface_conditions                        0.000000\n",
       "road_type                                      0.000000\n",
       "special_conditions_at_site                     0.000000\n",
       "1st_road_class                                 0.000000\n",
       "x1st_point_of_impact                           0.000000\n",
       "dtype: float64"
      ]
     },
     "execution_count": 43,
     "metadata": {},
     "output_type": "execute_result"
    }
   ],
   "source": [
    "#### Check nulls for again\n",
    "df.isnull().sum().sort_values(ascending=False)/df.shape[0]*100"
   ]
  },
  {
   "cell_type": "code",
   "execution_count": 44,
   "id": "da550754",
   "metadata": {},
   "outputs": [
    {
     "data": {
      "text/plain": [
       "(852559, 53)"
      ]
     },
     "execution_count": 44,
     "metadata": {},
     "output_type": "execute_result"
    }
   ],
   "source": [
    "df.shape"
   ]
  },
  {
   "cell_type": "code",
   "execution_count": 45,
   "id": "6baf469f",
   "metadata": {},
   "outputs": [
    {
     "data": {
      "text/plain": [
       "accident_index                                 0.0\n",
       "urban_or_rural_area                            0.0\n",
       "year                                           0.0\n",
       "inscotland                                     0.0\n",
       "age_band_of_driver                             0.0\n",
       "age_of_vehicle                                 0.0\n",
       "driver_home_area_type                          0.0\n",
       "driver_imd_decile                              0.0\n",
       "engine_capacity_cc                             0.0\n",
       "hit_object_in_carriageway                      0.0\n",
       "hit_object_off_carriageway                     0.0\n",
       "journey_purpose_of_driver                      0.0\n",
       "junction_location                              0.0\n",
       "make                                           0.0\n",
       "model                                          0.0\n",
       "propulsion_code                                0.0\n",
       "sex_of_driver                                  0.0\n",
       "skidding_and_overturning                       0.0\n",
       "towing_and_articulation                        0.0\n",
       "vehicle_leaving_carriageway                    0.0\n",
       "vehicle_locationrestricted_lane                0.0\n",
       "vehicle_manoeuvre                              0.0\n",
       "vehicle_reference                              0.0\n",
       "vehicle_type                                   0.0\n",
       "was_vehicle_left_hand_drive                    0.0\n",
       "weather_conditions                             0.0\n",
       "time                                           0.0\n",
       "1st_road_class                                 0.0\n",
       "speed_limit                                    0.0\n",
       "1st_road_number                                0.0\n",
       "2nd_road_number                                0.0\n",
       "accident_severity                              0.0\n",
       "carriageway_hazards                            0.0\n",
       "date                                           0.0\n",
       "day_of_week                                    0.0\n",
       "did_police_officer_attend_scene_of_accident    0.0\n",
       "junction_control                               0.0\n",
       "junction_detail                                0.0\n",
       "latitude                                       0.0\n",
       "light_conditions                               0.0\n",
       "local_authority_district                       0.0\n",
       "local_authority_highway                        0.0\n",
       "longitude                                      0.0\n",
       "lsoa_of_accident_location                      0.0\n",
       "number_of_casualties                           0.0\n",
       "number_of_vehicles                             0.0\n",
       "pedestrian_crossing-human_control              0.0\n",
       "pedestrian_crossing-physical_facilities        0.0\n",
       "police_force                                   0.0\n",
       "road_surface_conditions                        0.0\n",
       "road_type                                      0.0\n",
       "special_conditions_at_site                     0.0\n",
       "x1st_point_of_impact                           0.0\n",
       "dtype: float64"
      ]
     },
     "execution_count": 45,
     "metadata": {},
     "output_type": "execute_result"
    }
   ],
   "source": [
    "#drop the remaining nulls that are <1%\n",
    "df.dropna(inplace=True)\n",
    "\n",
    "#last check\n",
    "df.isnull().sum().sort_values(ascending=False)/df.shape[0]*100"
   ]
  },
  {
   "cell_type": "code",
   "execution_count": 46,
   "id": "1f3d5545",
   "metadata": {},
   "outputs": [
    {
     "data": {
      "text/plain": [
       "(839971, 53)"
      ]
     },
     "execution_count": 46,
     "metadata": {},
     "output_type": "execute_result"
    }
   ],
   "source": [
    "df.shape"
   ]
  },
  {
   "cell_type": "code",
   "execution_count": 47,
   "id": "40c2f6cc",
   "metadata": {},
   "outputs": [
    {
     "name": "stdout",
     "output_type": "stream",
     "text": [
      "<class 'pandas.core.frame.DataFrame'>\n",
      "Int64Index: 839971 entries, 1 to 1075159\n",
      "Data columns (total 53 columns):\n",
      " #   Column                                       Non-Null Count   Dtype         \n",
      "---  ------                                       --------------   -----         \n",
      " 0   accident_index                               839971 non-null  object        \n",
      " 1   1st_road_class                               839971 non-null  object        \n",
      " 2   1st_road_number                              839971 non-null  object        \n",
      " 3   2nd_road_number                              839971 non-null  object        \n",
      " 4   accident_severity                            839971 non-null  object        \n",
      " 5   carriageway_hazards                          839971 non-null  object        \n",
      " 6   date                                         839971 non-null  datetime64[ns]\n",
      " 7   day_of_week                                  839971 non-null  object        \n",
      " 8   did_police_officer_attend_scene_of_accident  839971 non-null  object        \n",
      " 9   junction_control                             839971 non-null  object        \n",
      " 10  junction_detail                              839971 non-null  object        \n",
      " 11  latitude                                     839971 non-null  float64       \n",
      " 12  light_conditions                             839971 non-null  object        \n",
      " 13  local_authority_district                     839971 non-null  object        \n",
      " 14  local_authority_highway                      839971 non-null  object        \n",
      " 15  longitude                                    839971 non-null  float64       \n",
      " 16  lsoa_of_accident_location                    839971 non-null  object        \n",
      " 17  number_of_casualties                         839971 non-null  int64         \n",
      " 18  number_of_vehicles                           839971 non-null  int64         \n",
      " 19  pedestrian_crossing-human_control            839971 non-null  object        \n",
      " 20  pedestrian_crossing-physical_facilities      839971 non-null  object        \n",
      " 21  police_force                                 839971 non-null  object        \n",
      " 22  road_surface_conditions                      839971 non-null  object        \n",
      " 23  road_type                                    839971 non-null  object        \n",
      " 24  special_conditions_at_site                   839971 non-null  object        \n",
      " 25  speed_limit                                  839971 non-null  float64       \n",
      " 26  time                                         839971 non-null  object        \n",
      " 27  urban_or_rural_area                          839971 non-null  object        \n",
      " 28  weather_conditions                           839971 non-null  object        \n",
      " 29  year                                         839971 non-null  int64         \n",
      " 30  inscotland                                   839971 non-null  object        \n",
      " 31  age_band_of_driver                           839971 non-null  object        \n",
      " 32  age_of_vehicle                               839971 non-null  float64       \n",
      " 33  driver_home_area_type                        839971 non-null  object        \n",
      " 34  driver_imd_decile                            839971 non-null  float64       \n",
      " 35  engine_capacity_cc                           839971 non-null  float64       \n",
      " 36  hit_object_in_carriageway                    839971 non-null  object        \n",
      " 37  hit_object_off_carriageway                   839971 non-null  object        \n",
      " 38  journey_purpose_of_driver                    839971 non-null  object        \n",
      " 39  junction_location                            839971 non-null  object        \n",
      " 40  make                                         839971 non-null  object        \n",
      " 41  model                                        839971 non-null  object        \n",
      " 42  propulsion_code                              839971 non-null  object        \n",
      " 43  sex_of_driver                                839971 non-null  object        \n",
      " 44  skidding_and_overturning                     839971 non-null  object        \n",
      " 45  towing_and_articulation                      839971 non-null  object        \n",
      " 46  vehicle_leaving_carriageway                  839971 non-null  object        \n",
      " 47  vehicle_locationrestricted_lane              839971 non-null  object        \n",
      " 48  vehicle_manoeuvre                            839971 non-null  object        \n",
      " 49  vehicle_reference                            839971 non-null  object        \n",
      " 50  vehicle_type                                 839971 non-null  object        \n",
      " 51  was_vehicle_left_hand_drive                  839971 non-null  object        \n",
      " 52  x1st_point_of_impact                         839971 non-null  object        \n",
      "dtypes: datetime64[ns](1), float64(6), int64(3), object(43)\n",
      "memory usage: 346.1+ MB\n"
     ]
    }
   ],
   "source": [
    "df.info()"
   ]
  },
  {
   "cell_type": "code",
   "execution_count": 48,
   "id": "e0315c88",
   "metadata": {},
   "outputs": [
    {
     "data": {
      "text/plain": [
       "1     584658\n",
       "2     171992\n",
       "3      53080\n",
       "4      18733\n",
       "5       7079\n",
       "6       2675\n",
       "7        928\n",
       "8        371\n",
       "9        209\n",
       "10        88\n",
       "11        47\n",
       "12        40\n",
       "13        24\n",
       "16        12\n",
       "15         7\n",
       "14         5\n",
       "17         4\n",
       "21         4\n",
       "18         3\n",
       "19         2\n",
       "22         2\n",
       "24         2\n",
       "29         2\n",
       "42         2\n",
       "41         1\n",
       "43         1\n",
       "Name: number_of_casualties, dtype: int64"
      ]
     },
     "execution_count": 48,
     "metadata": {},
     "output_type": "execute_result"
    }
   ],
   "source": [
    "# #number_of_casualties\n",
    "df['number_of_casualties'].value_counts()"
   ]
  },
  {
   "cell_type": "code",
   "execution_count": 49,
   "id": "7634bbab",
   "metadata": {},
   "outputs": [],
   "source": [
    "#create casualities grouping\n",
    "\n",
    "def casualities(num_cas):\n",
    "    if num_cas >=1 and num_cas <2:\n",
    "        return \"1\"\n",
    "    elif num_cas >=2 and num_cas <3:\n",
    "        return \"2\"\n",
    "    elif num_cas >=3 and num_cas <4:\n",
    "        return \"3\"\n",
    "    elif num_cas >= 4 and num_cas <5:\n",
    "        return \"4\"\n",
    "    elif num_cas >= 5:\n",
    "        return \"5+\"\n",
    "  "
   ]
  },
  {
   "cell_type": "code",
   "execution_count": 50,
   "id": "05fc0736",
   "metadata": {},
   "outputs": [],
   "source": [
    "#apply function   \n",
    "df['number_of_casuality_group']= df['number_of_casualties'].apply(casualities)"
   ]
  },
  {
   "cell_type": "code",
   "execution_count": 51,
   "id": "951082ea",
   "metadata": {},
   "outputs": [
    {
     "data": {
      "text/plain": [
       "1     584658\n",
       "2     171992\n",
       "3      53080\n",
       "4      18733\n",
       "5+     11508\n",
       "Name: number_of_casuality_group, dtype: int64"
      ]
     },
     "execution_count": 51,
     "metadata": {},
     "output_type": "execute_result"
    }
   ],
   "source": [
    "#number_of_casualties\n",
    "df['number_of_casuality_group'].value_counts()"
   ]
  },
  {
   "cell_type": "code",
   "execution_count": 52,
   "id": "08904929",
   "metadata": {},
   "outputs": [
    {
     "data": {
      "text/plain": [
       "Petrol                 62.536564\n",
       "Heavy oil              36.766388\n",
       "Hybrid electric         0.565020\n",
       "Gas/Bi-fuel             0.094289\n",
       "Petrol/Gas (LPG)        0.025358\n",
       "Electric diesel         0.008810\n",
       "Gas                     0.002976\n",
       "New fuel technology     0.000357\n",
       "Fuel cells              0.000119\n",
       "Gas Diesel              0.000119\n",
       "Name: propulsion_code, dtype: float64"
      ]
     },
     "execution_count": 52,
     "metadata": {},
     "output_type": "execute_result"
    }
   ],
   "source": [
    "df['propulsion_code'].value_counts()/df.shape[0]*100"
   ]
  },
  {
   "cell_type": "code",
   "execution_count": 53,
   "id": "ea938a15",
   "metadata": {},
   "outputs": [],
   "source": [
    "#Clean the values for Propulsion Code. \n",
    "df['propulsion_code'] = df['propulsion_code'].replace(to_replace=\"Gas\", value=\"Petrol\")\n",
    "df['propulsion_code'] = df['propulsion_code'].replace(to_replace=\"Gas/Bi-fuel\", value=\"Bio-fuel\")\n",
    "df['propulsion_code'] = df['propulsion_code'].replace(to_replace=\"Petrol/Gas (LPG)\", value=\"LPG Petrol\")\n",
    "df['propulsion_code'] = df['propulsion_code'].replace(to_replace=\"Gas Diesel\", value=\"Diesel\")"
   ]
  },
  {
   "cell_type": "code",
   "execution_count": 54,
   "id": "3e8eb173",
   "metadata": {},
   "outputs": [
    {
     "data": {
      "text/plain": [
       "Petrol                 62.539540\n",
       "Heavy oil              36.766388\n",
       "Hybrid electric         0.565020\n",
       "Bio-fuel                0.094289\n",
       "LPG Petrol              0.025358\n",
       "Electric diesel         0.008810\n",
       "New fuel technology     0.000357\n",
       "Fuel cells              0.000119\n",
       "Diesel                  0.000119\n",
       "Name: propulsion_code, dtype: float64"
      ]
     },
     "execution_count": 54,
     "metadata": {},
     "output_type": "execute_result"
    }
   ],
   "source": [
    "df['propulsion_code'].value_counts()/df.shape[0]*100"
   ]
  },
  {
   "cell_type": "code",
   "execution_count": 55,
   "id": "43f3b8e3",
   "metadata": {},
   "outputs": [
    {
     "data": {
      "text/plain": [
       "accident_index                                 646082\n",
       "longitude                                      509807\n",
       "latitude                                       492007\n",
       "lsoa_of_accident_location                       34818\n",
       "model                                           28344\n",
       "2nd_road_number                                  6636\n",
       "1st_road_number                                  5607\n",
       "date                                             4383\n",
       "time                                             1439\n",
       "engine_capacity_cc                               1230\n",
       "local_authority_district                          416\n",
       "make                                              272\n",
       "local_authority_highway                           207\n",
       "age_of_vehicle                                     75\n",
       "police_force                                       51\n",
       "vehicle_reference                                  27\n",
       "number_of_casualties                               26\n",
       "vehicle_manoeuvre                                  18\n",
       "number_of_vehicles                                 17\n",
       "vehicle_type                                       16\n",
       "hit_object_off_carriageway                         13\n",
       "year                                               12\n",
       "hit_object_in_carriageway                          12\n",
       "age_band_of_driver                                 11\n",
       "driver_imd_decile                                  10\n",
       "vehicle_locationrestricted_lane                    10\n",
       "junction_detail                                     9\n",
       "weather_conditions                                  9\n",
       "vehicle_leaving_carriageway                         9\n",
       "propulsion_code                                     9\n",
       "junction_location                                   9\n",
       "special_conditions_at_site                          8\n",
       "speed_limit                                         7\n",
       "journey_purpose_of_driver                           7\n",
       "day_of_week                                         7\n",
       "carriageway_hazards                                 6\n",
       "skidding_and_overturning                            6\n",
       "1st_road_class                                      6\n",
       "towing_and_articulation                             6\n",
       "pedestrian_crossing-physical_facilities             6\n",
       "x1st_point_of_impact                                5\n",
       "number_of_casuality_group                           5\n",
       "road_type                                           5\n",
       "road_surface_conditions                             5\n",
       "light_conditions                                    5\n",
       "junction_control                                    5\n",
       "driver_home_area_type                               3\n",
       "sex_of_driver                                       3\n",
       "pedestrian_crossing-human_control                   3\n",
       "did_police_officer_attend_scene_of_accident         3\n",
       "accident_severity                                   3\n",
       "urban_or_rural_area                                 3\n",
       "inscotland                                          2\n",
       "was_vehicle_left_hand_drive                         2\n",
       "dtype: int64"
      ]
     },
     "execution_count": 55,
     "metadata": {},
     "output_type": "execute_result"
    }
   ],
   "source": [
    "# #unique values\n",
    "df.nunique().sort_values(ascending=False)"
   ]
  },
  {
   "cell_type": "code",
   "execution_count": 56,
   "id": "07718b63",
   "metadata": {},
   "outputs": [],
   "source": [
    "df['date'] = pd.to_datetime(df['date'])"
   ]
  },
  {
   "cell_type": "code",
   "execution_count": 57,
   "id": "ed073872",
   "metadata": {},
   "outputs": [],
   "source": [
    "df['month'] = df ['date'].apply(lambda time: time.month)"
   ]
  },
  {
   "cell_type": "code",
   "execution_count": 58,
   "id": "9f42f943",
   "metadata": {},
   "outputs": [],
   "source": [
    "#creating a weekend feature that includes Friday-Sunday\n",
    "df['weekend']= np.where(df['day_of_week'].isin(['Friday', 'Saturday', 'Sunday']), \"Weekend\", \"Weekday\")"
   ]
  },
  {
   "cell_type": "code",
   "execution_count": 59,
   "id": "18da4fda",
   "metadata": {},
   "outputs": [],
   "source": [
    "#create time of day feature with Morning Rush, Day, Noon Rush, Afternoon, After Work Rush, Night\n",
    "\n",
    "#time of day dictionary\n",
    "timeofdaygroups = {1: \"Morning Rush (6-10)\",\n",
    "                   2: \"Day (10-12)\",\n",
    "                   3: \"Lunch Rush (12-14)\",\n",
    "                   4: \"Afternoon (14-16)\",\n",
    "                   5: \"After Work Rush (16-18)\",\n",
    "                   6: \"Evening (18-22)\",\n",
    "                   7: \"Night (22-6)\"}"
   ]
  },
  {
   "cell_type": "code",
   "execution_count": 60,
   "id": "4794b0ac",
   "metadata": {},
   "outputs": [],
   "source": [
    "#pull time data and create hour column\n",
    "df['hour'] = df['time'].str[0:2]\n",
    " \n",
    "#convert to numeric    \n",
    "df['hour'] =  pd.to_numeric(df['hour'])\n",
    "\n",
    "#convert to integer\n",
    "df['hour'] = df['hour'].astype('int')"
   ]
  },
  {
   "cell_type": "code",
   "execution_count": 61,
   "id": "69af6392",
   "metadata": {},
   "outputs": [],
   "source": [
    "#create time_of_day grouping\n",
    "\n",
    "def daygroup(hour):\n",
    "    if hour >= 6 and hour < 10:\n",
    "        return \"Morning (6-10)\"\n",
    "    elif hour >= 10 and hour < 12:\n",
    "        return \"Day (10-12)\"\n",
    "    elif hour >= 12 and hour < 14:\n",
    "        return \"Lunch (12-14)\"\n",
    "    elif hour >= 14 and hour < 16:\n",
    "        return \"Afternoon (14-16)\"\n",
    "    elif hour >= 16 and hour < 18:\n",
    "        return \"After Work (16-18)\"\n",
    "    elif hour >= 18 and hour < 22:\n",
    "        return \"Evening (18-22)\"\n",
    "    else:\n",
    "        return \"Night (22-6)\""
   ]
  },
  {
   "cell_type": "code",
   "execution_count": 62,
   "id": "a5b7af9f",
   "metadata": {},
   "outputs": [],
   "source": [
    "#apply function   \n",
    "#time of day function\n",
    "df['time_of_day']= df['hour'].apply(daygroup)  "
   ]
  },
  {
   "cell_type": "code",
   "execution_count": 63,
   "id": "7bc8b044",
   "metadata": {},
   "outputs": [
    {
     "data": {
      "text/html": [
       "<div>\n",
       "<style scoped>\n",
       "    .dataframe tbody tr th:only-of-type {\n",
       "        vertical-align: middle;\n",
       "    }\n",
       "\n",
       "    .dataframe tbody tr th {\n",
       "        vertical-align: top;\n",
       "    }\n",
       "\n",
       "    .dataframe thead th {\n",
       "        text-align: right;\n",
       "    }\n",
       "</style>\n",
       "<table border=\"1\" class=\"dataframe\">\n",
       "  <thead>\n",
       "    <tr style=\"text-align: right;\">\n",
       "      <th></th>\n",
       "      <th>weekend</th>\n",
       "      <th>day_of_week</th>\n",
       "      <th>time</th>\n",
       "      <th>time_of_day</th>\n",
       "    </tr>\n",
       "  </thead>\n",
       "  <tbody>\n",
       "    <tr>\n",
       "      <th>1075150</th>\n",
       "      <td>Weekday</td>\n",
       "      <td>Wednesday</td>\n",
       "      <td>08:45</td>\n",
       "      <td>Morning (6-10)</td>\n",
       "    </tr>\n",
       "    <tr>\n",
       "      <th>1075151</th>\n",
       "      <td>Weekday</td>\n",
       "      <td>Wednesday</td>\n",
       "      <td>08:45</td>\n",
       "      <td>Morning (6-10)</td>\n",
       "    </tr>\n",
       "    <tr>\n",
       "      <th>1075152</th>\n",
       "      <td>Weekday</td>\n",
       "      <td>Tuesday</td>\n",
       "      <td>18:12</td>\n",
       "      <td>Evening (18-22)</td>\n",
       "    </tr>\n",
       "    <tr>\n",
       "      <th>1075153</th>\n",
       "      <td>Weekend</td>\n",
       "      <td>Sunday</td>\n",
       "      <td>11:00</td>\n",
       "      <td>Day (10-12)</td>\n",
       "    </tr>\n",
       "    <tr>\n",
       "      <th>1075154</th>\n",
       "      <td>Weekend</td>\n",
       "      <td>Sunday</td>\n",
       "      <td>11:00</td>\n",
       "      <td>Day (10-12)</td>\n",
       "    </tr>\n",
       "    <tr>\n",
       "      <th>1075155</th>\n",
       "      <td>Weekday</td>\n",
       "      <td>Monday</td>\n",
       "      <td>16:32</td>\n",
       "      <td>After Work (16-18)</td>\n",
       "    </tr>\n",
       "    <tr>\n",
       "      <th>1075156</th>\n",
       "      <td>Weekday</td>\n",
       "      <td>Monday</td>\n",
       "      <td>16:32</td>\n",
       "      <td>After Work (16-18)</td>\n",
       "    </tr>\n",
       "    <tr>\n",
       "      <th>1075157</th>\n",
       "      <td>Weekend</td>\n",
       "      <td>Friday</td>\n",
       "      <td>06:45</td>\n",
       "      <td>Morning (6-10)</td>\n",
       "    </tr>\n",
       "    <tr>\n",
       "      <th>1075158</th>\n",
       "      <td>Weekday</td>\n",
       "      <td>Tuesday</td>\n",
       "      <td>16:45</td>\n",
       "      <td>After Work (16-18)</td>\n",
       "    </tr>\n",
       "    <tr>\n",
       "      <th>1075159</th>\n",
       "      <td>Weekday</td>\n",
       "      <td>Tuesday</td>\n",
       "      <td>16:45</td>\n",
       "      <td>After Work (16-18)</td>\n",
       "    </tr>\n",
       "  </tbody>\n",
       "</table>\n",
       "</div>"
      ],
      "text/plain": [
       "         weekend day_of_week   time         time_of_day\n",
       "1075150  Weekday   Wednesday  08:45      Morning (6-10)\n",
       "1075151  Weekday   Wednesday  08:45      Morning (6-10)\n",
       "1075152  Weekday     Tuesday  18:12     Evening (18-22)\n",
       "1075153  Weekend      Sunday  11:00         Day (10-12)\n",
       "1075154  Weekend      Sunday  11:00         Day (10-12)\n",
       "1075155  Weekday      Monday  16:32  After Work (16-18)\n",
       "1075156  Weekday      Monday  16:32  After Work (16-18)\n",
       "1075157  Weekend      Friday  06:45      Morning (6-10)\n",
       "1075158  Weekday     Tuesday  16:45  After Work (16-18)\n",
       "1075159  Weekday     Tuesday  16:45  After Work (16-18)"
      ]
     },
     "execution_count": 63,
     "metadata": {},
     "output_type": "execute_result"
    }
   ],
   "source": [
    "df[['weekend','day_of_week','time', 'time_of_day']].tail(10)"
   ]
  },
  {
   "cell_type": "code",
   "execution_count": 64,
   "id": "752a9a92",
   "metadata": {},
   "outputs": [
    {
     "data": {
      "text/plain": [
       "Car                                      85.485451\n",
       "Van / Goods 3.5 tonnes mgw or under       5.413163\n",
       "Motorcycle over 500cc                     4.515632\n",
       "Taxi/Private hire car                     2.861527\n",
       "Motorcycle over 125cc and up to 500cc     1.043846\n",
       "Motorcycle 125cc and under                0.166077\n",
       "Minibus (8 - 16 passenger seats)          0.146553\n",
       "Other vehicle                             0.137981\n",
       "Goods over 3.5t. and under 7.5t           0.086670\n",
       "Bus or coach (17 or more pass seats)      0.057502\n",
       "Motorcycle 50cc and under                 0.041668\n",
       "Goods 7.5 tonnes mgw and over             0.017143\n",
       "Goods vehicle - unknown weight            0.010238\n",
       "Motorcycle - unknown cc                   0.008691\n",
       "Agricultural vehicle                      0.007024\n",
       "Electric motorcycle                       0.000833\n",
       "Name: vehicle_type, dtype: float64"
      ]
     },
     "execution_count": 64,
     "metadata": {},
     "output_type": "execute_result"
    }
   ],
   "source": [
    "#vehicle_type\n",
    "df['vehicle_type'].value_counts()/df.shape[0]*100"
   ]
  },
  {
   "cell_type": "code",
   "execution_count": 65,
   "id": "c392705a",
   "metadata": {},
   "outputs": [],
   "source": [
    "#motorcycles\n",
    "df['vehicle_type'] = df['vehicle_type'].replace(to_replace=\"Motorcycle over 500cc\", \n",
    "                                                        value=\"Motorcycle\")\n",
    "df['vehicle_type'] = df['vehicle_type'].replace(to_replace=\n",
    "                                                        \"Motorcycle over 125cc and up to 500cc\",\n",
    "                                                        value=\"Motorcycle\")\n",
    "df['vehicle_type'] = df['vehicle_type'].replace(to_replace=\"Motorcycle 125cc and under\", \n",
    "                                                value=\"Motorcycle\")\n",
    "df['vehicle_type'] = df['vehicle_type'].replace(to_replace=\"Motorcycle 50cc and under\", \n",
    "                                                        value=\"Motorcycle\")\n",
    "df['vehicle_type'] = df['vehicle_type'].replace(to_replace=\"Electric motorcycle\", \n",
    "                                                        value=\"Motorcycle\")\n",
    "df['vehicle_type'] = df['vehicle_type'].replace(to_replace=\"Motorcycle - unknown cc\", \n",
    "                                                        value=\"Motorcycle\")\n",
    "\n",
    "\n",
    "#Goods_vehicle\n",
    "df['vehicle_type'] = df['vehicle_type'].replace(to_replace=\n",
    "                                                        \"Van / Goods 3.5 tonnes mgw or under\", \n",
    "                                                        value=\"Goods Vehicle\")\n",
    "df['vehicle_type'] = df['vehicle_type'].replace(to_replace=\"Goods over 3.5t. and under 7.5t\", \n",
    "                                                        value=\"Goods Vehicle\")\n",
    "df['vehicle_type'] = df['vehicle_type'].replace(to_replace=\"Goods vehicle - unknown weight\", \n",
    "                                                        value=\"Goods Vehicle\")\n",
    "df['vehicle_type'] = df['vehicle_type'].replace(to_replace=\"Goods 7.5 tonnes mgw and over\", \n",
    "                                                        value=\"Goods Vehicle\")\n",
    "\n",
    "#car\n",
    "df['vehicle_type'] = df['vehicle_type'].replace(to_replace=\"Taxi/Private hire car\", \n",
    "                                                        value=\"Car\")\n",
    "\n",
    "\n",
    "#bus\n",
    "df['vehicle_type'] = df['vehicle_type'].replace(to_replace=\"Minibus (8 - 16 passenger seats)\", \n",
    "                                                        value=\"Bus\")\n",
    "df['vehicle_type'] = df['vehicle_type'].replace(to_replace=\n",
    "                                                        \"Bus or coach (17 or more pass seats)\", \n",
    "                                                        value=\"Bus\")\n",
    "\n",
    "#other vehicle\n",
    "df['vehicle_type'] = df['vehicle_type'].replace(to_replace=\"Agricultural vehicle\", \n",
    "                                                        value=\"Other Vehicle\")\n",
    "df['vehicle_type'] = df['vehicle_type'].replace(to_replace=\"Other vehicle\", \n",
    "                                                        value=\"Other Vehicle\")"
   ]
  },
  {
   "cell_type": "code",
   "execution_count": 66,
   "id": "bc3a2637",
   "metadata": {},
   "outputs": [
    {
     "data": {
      "text/plain": [
       "Car              88.346979\n",
       "Motorcycle        5.776747\n",
       "Goods Vehicle     5.527215\n",
       "Bus               0.204055\n",
       "Other Vehicle     0.145005\n",
       "Name: vehicle_type, dtype: float64"
      ]
     },
     "execution_count": 66,
     "metadata": {},
     "output_type": "execute_result"
    }
   ],
   "source": [
    "#vehicle_type\n",
    "df['vehicle_type'].value_counts()/df.shape[0]*100"
   ]
  },
  {
   "cell_type": "code",
   "execution_count": 67,
   "id": "2793843b",
   "metadata": {},
   "outputs": [
    {
     "data": {
      "text/plain": [
       "26 - 35    22.464228\n",
       "36 - 45    21.572173\n",
       "46 - 55    17.067613\n",
       "21 - 25    12.072322\n",
       "56 - 65    10.280474\n",
       "16 - 20     7.720981\n",
       "66 - 75     5.325422\n",
       "Over 75     3.481906\n",
       "11 - 15     0.014286\n",
       "6 - 10      0.000476\n",
       "0 - 5       0.000119\n",
       "Name: age_band_of_driver, dtype: float64"
      ]
     },
     "execution_count": 67,
     "metadata": {},
     "output_type": "execute_result"
    }
   ],
   "source": [
    "## Create more condense groups for age band of driver in order to deal with some potential outliers.\n",
    "#age_band_of_driver \n",
    "df['age_band_of_driver'].value_counts()/df.shape[0]*100\n"
   ]
  },
  {
   "cell_type": "code",
   "execution_count": 68,
   "id": "ce794237",
   "metadata": {},
   "outputs": [],
   "source": [
    "#I did this before hand because as \"Over 75\", it wouldnt convert in the codes below\n",
    "df['age_band_of_driver']=df['age_band_of_driver'].replace(\"Over 75\",\"75-100\")"
   ]
  },
  {
   "cell_type": "code",
   "execution_count": 69,
   "id": "a90e4f1b",
   "metadata": {},
   "outputs": [],
   "source": [
    "# age1 = [\"0 - 5\", \"6 - 10\", \"11 - 15\"]\n",
    "# age2 = [\"16 - 20\",\"21 - 25\"]\n",
    "# age3 = [\"26 - 35\",\"36 - 45\"]\n",
    "# age4 = [\"46 - 55\", \"56 - 65\"]\n",
    "# age5 = [\"66 - 75\", \"75-100\"]"
   ]
  },
  {
   "cell_type": "code",
   "execution_count": 70,
   "id": "6ec0773d",
   "metadata": {},
   "outputs": [],
   "source": [
    "# #over 75 wouldnt work in the string so I did it separately\n",
    "# for (row, col) in df.iterrows():\n",
    "\n",
    "#     if str.lower(col.age_band_of_driver) in age1:\n",
    "#         df['age_band_of_driver'].replace(to_replace=col.age_band_of_driver, \n",
    "#                                          value='Under 16', inplace=True)\n",
    "\n",
    "#     if str.lower(col.age_band_of_driver) in age2:\n",
    "#         df['age_band_of_driver'].replace(to_replace=col.age_band_of_driver, \n",
    "#                                          value='16-25', inplace=True)\n",
    "    \n",
    "#     if str.lower(col.age_band_of_driver) in age3:\n",
    "#         df['age_band_of_driver'].replace(to_replace=col.age_band_of_driver, \n",
    "#                                          value='26-45', inplace=True)\n",
    "#     if str.lower(col.age_band_of_driver) in age4:\n",
    "#         df['age_band_of_driver'].replace(to_replace=col.age_band_of_driver, \n",
    "#                                          value='46-65', inplace=True)\n",
    "#     if str.lower(col.age_band_of_driver) in age5:\n",
    "#         df['age_band_of_driver'].replace(to_replace=col.age_band_of_driver, \n",
    "#                                          value='Over 65', inplace=True)"
   ]
  },
  {
   "cell_type": "code",
   "execution_count": 71,
   "id": "4e42d264",
   "metadata": {},
   "outputs": [
    {
     "name": "stdout",
     "output_type": "stream",
     "text": [
      "Distinct responses for age_band_of_driver:\n",
      " {'75-100', '46 - 55', '36 - 45', '26 - 35', '0 - 5', '16 - 20', '56 - 65', '6 - 10', '11 - 15', '66 - 75', '21 - 25'}\n"
     ]
    }
   ],
   "source": [
    "#age_band_of_driver\n",
    "print(\"Distinct responses for age_band_of_driver:\\n\", set(df['age_band_of_driver']))"
   ]
  },
  {
   "cell_type": "code",
   "execution_count": 72,
   "id": "ba931ebe",
   "metadata": {},
   "outputs": [
    {
     "data": {
      "text/plain": [
       "2     72.057131\n",
       "3     12.284234\n",
       "1     11.846123\n",
       "4      2.840931\n",
       "5      0.635974\n",
       "6      0.190245\n",
       "7      0.075836\n",
       "8      0.031549\n",
       "9      0.012024\n",
       "10     0.007500\n",
       "11     0.007024\n",
       "14     0.002381\n",
       "32     0.002381\n",
       "13     0.002262\n",
       "12     0.001905\n",
       "16     0.001786\n",
       "20     0.000714\n",
       "Name: number_of_vehicles, dtype: float64"
      ]
     },
     "execution_count": 72,
     "metadata": {},
     "output_type": "execute_result"
    }
   ],
   "source": [
    "# number_of_vehicles\n",
    "df['number_of_vehicles'].value_counts()/df.shape[0]*100"
   ]
  },
  {
   "cell_type": "code",
   "execution_count": 73,
   "id": "fb1d6107",
   "metadata": {},
   "outputs": [],
   "source": [
    "#group number_of_vehicles\n",
    "\n",
    "def vehicles(num_veh):\n",
    "    if num_veh >=1 and num_veh <2:\n",
    "        return \"1\"\n",
    "    elif num_veh >=2 and num_veh <3:\n",
    "        return \"2\"\n",
    "    elif num_veh >=3 and num_veh <4:\n",
    "        return \"3\"\n",
    "    elif num_veh >= 4: \n",
    "        return \"4+\"\n",
    "  \n",
    "#apply function   \n",
    "df['number_of_vehicles_group']= df['number_of_vehicles'].apply(vehicles)"
   ]
  },
  {
   "cell_type": "code",
   "execution_count": 74,
   "id": "72dcdbae",
   "metadata": {},
   "outputs": [
    {
     "data": {
      "text/plain": [
       "2     72.057131\n",
       "3     12.284234\n",
       "1     11.846123\n",
       "4+     3.812513\n",
       "Name: number_of_vehicles_group, dtype: float64"
      ]
     },
     "execution_count": 74,
     "metadata": {},
     "output_type": "execute_result"
    }
   ],
   "source": [
    "# number_of_vehicles\n",
    "df['number_of_vehicles_group'].value_counts()/df.shape[0]*100"
   ]
  },
  {
   "cell_type": "code",
   "execution_count": 75,
   "id": "4c4f65b5",
   "metadata": {},
   "outputs": [
    {
     "data": {
      "text/plain": [
       "dtype('O')"
      ]
     },
     "execution_count": 75,
     "metadata": {},
     "output_type": "execute_result"
    }
   ],
   "source": [
    "df['number_of_vehicles_group'].dtypes"
   ]
  },
  {
   "cell_type": "code",
   "execution_count": 76,
   "id": "f778ef44",
   "metadata": {},
   "outputs": [],
   "source": [
    "df['number_of_vehicles_group']=df['number_of_vehicles_group'].astype('object')"
   ]
  },
  {
   "cell_type": "code",
   "execution_count": 77,
   "id": "8b6e7af5",
   "metadata": {},
   "outputs": [],
   "source": [
    "#creating seasons column for ML\n",
    "\n",
    "#creating season column\n",
    "\n",
    "def getSeason(month):\n",
    "    if (month == 12 or month == 1 or month == 2):\n",
    "       return \"winter\"\n",
    "    elif(month == 3 or month == 4 or month == 5):\n",
    "       return \"spring\"\n",
    "    elif(month == 6 or month== 7 or month == 8):\n",
    "       return \"summer\"\n",
    "    else:\n",
    "       return \"fall\"\n",
    "\n",
    "df['season'] = df['month'].apply(getSeason)"
   ]
  },
  {
   "cell_type": "code",
   "execution_count": 78,
   "id": "68468d71",
   "metadata": {},
   "outputs": [
    {
     "data": {
      "text/plain": [
       "fall      27.316419\n",
       "summer    25.505642\n",
       "spring    24.297744\n",
       "winter    22.880195\n",
       "Name: season, dtype: float64"
      ]
     },
     "execution_count": 78,
     "metadata": {},
     "output_type": "execute_result"
    }
   ],
   "source": [
    "# number_of_vehicles\n",
    "df['season'].value_counts()/df.shape[0]*100"
   ]
  },
  {
   "cell_type": "code",
   "execution_count": 79,
   "id": "bb8c8f29",
   "metadata": {},
   "outputs": [
    {
     "data": {
      "text/plain": [
       "<AxesSubplot: >"
      ]
     },
     "execution_count": 79,
     "metadata": {},
     "output_type": "execute_result"
    },
    {
     "data": {
      "image/png": "[encoded data removed]",
      "text/plain": [
       "<Figure size 640x480 with 1 Axes>"
      ]
     },
     "metadata": {},
     "output_type": "display_data"
    }
   ],
   "source": [
    "#go back to engine capacity CC and crete groups\n",
    "df.engine_capacity_cc.hist()"
   ]
  },
  {
   "cell_type": "code",
   "execution_count": 80,
   "id": "1d6d1ec6",
   "metadata": {},
   "outputs": [],
   "source": [
    "def enginecap(eng_cc):\n",
    "    if eng_cc <=1500:\n",
    "        return \"small engine cc\"\n",
    "    if eng_cc >1500 and eng_cc <=2000:\n",
    "        return \"medium engine cc\"\n",
    "    if eng_cc >2000:\n",
    "        return \"large engine cc\"\n",
    "\n",
    "\n",
    "df['engine_capacity_cc_group'] = df['engine_capacity_cc'].apply(enginecap)"
   ]
  },
  {
   "cell_type": "code",
   "execution_count": 81,
   "id": "18332fb3",
   "metadata": {},
   "outputs": [
    {
     "data": {
      "text/plain": [
       "medium engine cc    388380\n",
       "small engine cc     343895\n",
       "large engine cc     107696\n",
       "Name: engine_capacity_cc_group, dtype: int64"
      ]
     },
     "execution_count": 81,
     "metadata": {},
     "output_type": "execute_result"
    }
   ],
   "source": [
    "df.engine_capacity_cc_group.value_counts()"
   ]
  },
  {
   "cell_type": "code",
   "execution_count": 82,
   "id": "40eb1e6d",
   "metadata": {},
   "outputs": [
    {
     "data": {
      "text/plain": [
       "(839971, 62)"
      ]
     },
     "execution_count": 82,
     "metadata": {},
     "output_type": "execute_result"
    }
   ],
   "source": [
    "#Put above pickle in next full run\n",
    "#create new column for Machine Learning and Visualizations with Not Serious and Serious\n",
    "df['accident_seriousness'] = df['accident_severity']\n",
    "df['accident_seriousness'] = df['accident_seriousness'].replace(to_replace=\"Slight\", \n",
    "                                                                value=\"Not Serious\")\n",
    "df['accident_seriousness'] = df['accident_seriousness'].replace(to_replace=\"Serious\",\n",
    "                                                                value=\"Serious\")\n",
    "df['accident_seriousness'] = df['accident_seriousness'].replace(to_replace=\"Fatal\", \n",
    "                                                                value=\"Fatal\")\n",
    "df.shape"
   ]
  },
  {
   "cell_type": "code",
   "execution_count": 83,
   "id": "bae6a828",
   "metadata": {},
   "outputs": [
    {
     "data": {
      "text/plain": [
       "Not Serious    737239\n",
       "Serious         95927\n",
       "Fatal            6805\n",
       "Name: accident_seriousness, dtype: int64"
      ]
     },
     "execution_count": 83,
     "metadata": {},
     "output_type": "execute_result"
    }
   ],
   "source": [
    "df.accident_seriousness.value_counts()"
   ]
  },
  {
   "cell_type": "code",
   "execution_count": 84,
   "id": "d48a531a",
   "metadata": {},
   "outputs": [
    {
     "data": {
      "text/html": [
       "<div>\n",
       "<style scoped>\n",
       "    .dataframe tbody tr th:only-of-type {\n",
       "        vertical-align: middle;\n",
       "    }\n",
       "\n",
       "    .dataframe tbody tr th {\n",
       "        vertical-align: top;\n",
       "    }\n",
       "\n",
       "    .dataframe thead th {\n",
       "        text-align: right;\n",
       "    }\n",
       "</style>\n",
       "<table border=\"1\" class=\"dataframe\">\n",
       "  <thead>\n",
       "    <tr style=\"text-align: right;\">\n",
       "      <th></th>\n",
       "      <th>accident_index</th>\n",
       "      <th>1st_road_class</th>\n",
       "      <th>1st_road_number</th>\n",
       "      <th>2nd_road_number</th>\n",
       "      <th>accident_severity</th>\n",
       "      <th>carriageway_hazards</th>\n",
       "      <th>date</th>\n",
       "      <th>day_of_week</th>\n",
       "      <th>did_police_officer_attend_scene_of_accident</th>\n",
       "      <th>junction_control</th>\n",
       "      <th>...</th>\n",
       "      <th>x1st_point_of_impact</th>\n",
       "      <th>number_of_casuality_group</th>\n",
       "      <th>month</th>\n",
       "      <th>weekend</th>\n",
       "      <th>hour</th>\n",
       "      <th>time_of_day</th>\n",
       "      <th>number_of_vehicles_group</th>\n",
       "      <th>season</th>\n",
       "      <th>engine_capacity_cc_group</th>\n",
       "      <th>accident_seriousness</th>\n",
       "    </tr>\n",
       "  </thead>\n",
       "  <tbody>\n",
       "    <tr>\n",
       "      <th>1</th>\n",
       "      <td>200501BS00012</td>\n",
       "      <td>A</td>\n",
       "      <td>4.0</td>\n",
       "      <td>325.0</td>\n",
       "      <td>Slight</td>\n",
       "      <td>None</td>\n",
       "      <td>2005-01-16</td>\n",
       "      <td>Sunday</td>\n",
       "      <td>1.0</td>\n",
       "      <td>Auto traffic signal</td>\n",
       "      <td>...</td>\n",
       "      <td>Front</td>\n",
       "      <td>1</td>\n",
       "      <td>1</td>\n",
       "      <td>Weekend</td>\n",
       "      <td>0</td>\n",
       "      <td>Night (22-6)</td>\n",
       "      <td>1</td>\n",
       "      <td>winter</td>\n",
       "      <td>medium engine cc</td>\n",
       "      <td>Not Serious</td>\n",
       "    </tr>\n",
       "    <tr>\n",
       "      <th>2</th>\n",
       "      <td>200501BS00016</td>\n",
       "      <td>A</td>\n",
       "      <td>3217.0</td>\n",
       "      <td>3216.0</td>\n",
       "      <td>Slight</td>\n",
       "      <td>None</td>\n",
       "      <td>2005-01-18</td>\n",
       "      <td>Tuesday</td>\n",
       "      <td>1.0</td>\n",
       "      <td>Give way or uncontrolled</td>\n",
       "      <td>...</td>\n",
       "      <td>Front</td>\n",
       "      <td>1</td>\n",
       "      <td>1</td>\n",
       "      <td>Weekday</td>\n",
       "      <td>5</td>\n",
       "      <td>Night (22-6)</td>\n",
       "      <td>2</td>\n",
       "      <td>winter</td>\n",
       "      <td>small engine cc</td>\n",
       "      <td>Not Serious</td>\n",
       "    </tr>\n",
       "    <tr>\n",
       "      <th>3</th>\n",
       "      <td>200501BS00016</td>\n",
       "      <td>A</td>\n",
       "      <td>3217.0</td>\n",
       "      <td>3216.0</td>\n",
       "      <td>Slight</td>\n",
       "      <td>None</td>\n",
       "      <td>2005-01-18</td>\n",
       "      <td>Tuesday</td>\n",
       "      <td>1.0</td>\n",
       "      <td>Give way or uncontrolled</td>\n",
       "      <td>...</td>\n",
       "      <td>Did not impact</td>\n",
       "      <td>1</td>\n",
       "      <td>1</td>\n",
       "      <td>Weekday</td>\n",
       "      <td>5</td>\n",
       "      <td>Night (22-6)</td>\n",
       "      <td>2</td>\n",
       "      <td>winter</td>\n",
       "      <td>large engine cc</td>\n",
       "      <td>Not Serious</td>\n",
       "    </tr>\n",
       "    <tr>\n",
       "      <th>5</th>\n",
       "      <td>200501BS00020</td>\n",
       "      <td>A</td>\n",
       "      <td>3218.0</td>\n",
       "      <td>4.0</td>\n",
       "      <td>Slight</td>\n",
       "      <td>None</td>\n",
       "      <td>2005-01-21</td>\n",
       "      <td>Friday</td>\n",
       "      <td>1.0</td>\n",
       "      <td>Give way or uncontrolled</td>\n",
       "      <td>...</td>\n",
       "      <td>Offside</td>\n",
       "      <td>1</td>\n",
       "      <td>1</td>\n",
       "      <td>Weekend</td>\n",
       "      <td>9</td>\n",
       "      <td>Morning (6-10)</td>\n",
       "      <td>2</td>\n",
       "      <td>winter</td>\n",
       "      <td>medium engine cc</td>\n",
       "      <td>Not Serious</td>\n",
       "    </tr>\n",
       "    <tr>\n",
       "      <th>6</th>\n",
       "      <td>200501BS00022</td>\n",
       "      <td>A</td>\n",
       "      <td>4.0</td>\n",
       "      <td>0.0</td>\n",
       "      <td>Serious</td>\n",
       "      <td>None</td>\n",
       "      <td>2005-01-08</td>\n",
       "      <td>Saturday</td>\n",
       "      <td>1.0</td>\n",
       "      <td>Give way or uncontrolled</td>\n",
       "      <td>...</td>\n",
       "      <td>Front</td>\n",
       "      <td>1</td>\n",
       "      <td>1</td>\n",
       "      <td>Weekend</td>\n",
       "      <td>3</td>\n",
       "      <td>Night (22-6)</td>\n",
       "      <td>1</td>\n",
       "      <td>winter</td>\n",
       "      <td>medium engine cc</td>\n",
       "      <td>Serious</td>\n",
       "    </tr>\n",
       "  </tbody>\n",
       "</table>\n",
       "<p>5 rows × 62 columns</p>\n",
       "</div>"
      ],
      "text/plain": [
       "  accident_index 1st_road_class 1st_road_number 2nd_road_number  \\\n",
       "1  200501BS00012              A             4.0           325.0   \n",
       "2  200501BS00016              A          3217.0          3216.0   \n",
       "3  200501BS00016              A          3217.0          3216.0   \n",
       "5  200501BS00020              A          3218.0             4.0   \n",
       "6  200501BS00022              A             4.0             0.0   \n",
       "\n",
       "  accident_severity carriageway_hazards       date day_of_week  \\\n",
       "1            Slight                None 2005-01-16      Sunday   \n",
       "2            Slight                None 2005-01-18     Tuesday   \n",
       "3            Slight                None 2005-01-18     Tuesday   \n",
       "5            Slight                None 2005-01-21      Friday   \n",
       "6           Serious                None 2005-01-08    Saturday   \n",
       "\n",
       "  did_police_officer_attend_scene_of_accident          junction_control  ...  \\\n",
       "1                                         1.0       Auto traffic signal  ...   \n",
       "2                                         1.0  Give way or uncontrolled  ...   \n",
       "3                                         1.0  Give way or uncontrolled  ...   \n",
       "5                                         1.0  Give way or uncontrolled  ...   \n",
       "6                                         1.0  Give way or uncontrolled  ...   \n",
       "\n",
       "  x1st_point_of_impact  number_of_casuality_group month  weekend hour  \\\n",
       "1                Front                          1     1  Weekend    0   \n",
       "2                Front                          1     1  Weekday    5   \n",
       "3       Did not impact                          1     1  Weekday    5   \n",
       "5              Offside                          1     1  Weekend    9   \n",
       "6                Front                          1     1  Weekend    3   \n",
       "\n",
       "      time_of_day number_of_vehicles_group  season  engine_capacity_cc_group  \\\n",
       "1    Night (22-6)                        1  winter          medium engine cc   \n",
       "2    Night (22-6)                        2  winter           small engine cc   \n",
       "3    Night (22-6)                        2  winter           large engine cc   \n",
       "5  Morning (6-10)                        2  winter          medium engine cc   \n",
       "6    Night (22-6)                        1  winter          medium engine cc   \n",
       "\n",
       "  accident_seriousness  \n",
       "1          Not Serious  \n",
       "2          Not Serious  \n",
       "3          Not Serious  \n",
       "5          Not Serious  \n",
       "6              Serious  \n",
       "\n",
       "[5 rows x 62 columns]"
      ]
     },
     "execution_count": 84,
     "metadata": {},
     "output_type": "execute_result"
    }
   ],
   "source": [
    "df.head()"
   ]
  },
  {
   "cell_type": "code",
   "execution_count": 85,
   "id": "5734dffc",
   "metadata": {},
   "outputs": [],
   "source": [
    "df.to_csv('Final_Acc_data.csv', index=False)"
   ]
  },
  {
   "cell_type": "code",
   "execution_count": 87,
   "id": "7c129291",
   "metadata": {},
   "outputs": [
    {
     "data": {
      "text/plain": [
       "accident_seriousness\n",
       "Fatal            13730\n",
       "Not Serious    1064139\n",
       "Serious         150853\n",
       "Name: number_of_casualties, dtype: int64"
      ]
     },
     "execution_count": 87,
     "metadata": {},
     "output_type": "execute_result"
    }
   ],
   "source": [
    "df['number_of_casualties'].groupby(df['accident_seriousness']).sum()"
   ]
  },
  {
   "cell_type": "code",
   "execution_count": null,
   "id": "7a622544",
   "metadata": {},
   "outputs": [],
   "source": []
  }
 ],
 "metadata": {
  "kernelspec": {
   "display_name": "Python 3 (ipykernel)",
   "language": "python",
   "name": "python3"
  },
  "language_info": {
   "codemirror_mode": {
    "name": "ipython",
    "version": 3
   },
   "file_extension": ".py",
   "mimetype": "text/x-python",
   "name": "python",
   "nbconvert_exporter": "python",
   "pygments_lexer": "ipython3",
   "version": "3.8.8"
  }
 },
 "nbformat": 4,
 "nbformat_minor": 5
}
